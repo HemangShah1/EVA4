{
  "nbformat": 4,
  "nbformat_minor": 0,
  "metadata": {
    "colab": {
      "provenance": []
    },
    "kernelspec": {
      "name": "python3",
      "display_name": "Python 3"
    },
    "language_info": {
      "name": "python"
    }
  },
  "cells": [
    {
      "cell_type": "code",
      "execution_count": 10,
      "metadata": {
        "id": "9HxeOVoSSsIC"
      },
      "outputs": [],
      "source": [
        "from __future__ import print_function\n",
        "import torch\n",
        "import torch.nn as nn\n",
        "import torch.nn.functional as F\n",
        "import torch.optim as optim\n",
        "from torchvision import datasets, transforms\n",
        "import numpy as np"
      ]
    },
    {
      "cell_type": "code",
      "source": [
        "# Data format: inputs: [[x1, x2], [x1, x2], ...], targets: [y, y, ...]\n",
        "\n",
        "max_num = 31\n",
        "data_size = 512\n",
        "\n",
        "inputs, targets = [], []\n",
        "import random\n",
        "for i in range(data_size):\n",
        "  x1 = random.randint(0, max_num)\n",
        "  x2 = random.randint(0, max_num)\n",
        "  inputs.append([x1, x2])\n",
        "  targets.append(x1 + x2)\n",
        "  \n",
        "inputs_t, targets_t = torch.tensor(inputs, dtype=torch.float32), torch.tensor(targets, dtype=torch.float32)\n",
        "\n",
        "dataset = torch.utils.data.TensorDataset(inputs_t, targets_t)\n",
        "train_size = int(0.8 * len(dataset))\n",
        "train_dataset, test_dataset = torch.utils.data.random_split(dataset, [train_size, len(dataset) - train_size])\n",
        "\n",
        "print(len(train_dataset))\n",
        "print(len(test_dataset))\n",
        "print(train_dataset[0])\n",
        "\n"
      ],
      "metadata": {
        "colab": {
          "base_uri": "https://localhost:8080/"
        },
        "id": "VZGRxgL1bapc",
        "outputId": "051cbdf3-01a1-40f2-9496-ded64c8b011e"
      },
      "execution_count": 70,
      "outputs": [
        {
          "output_type": "stream",
          "name": "stdout",
          "text": [
            "409\n",
            "103\n",
            "(tensor([ 1., 23.]), tensor(24.))\n"
          ]
        }
      ]
    },
    {
      "cell_type": "code",
      "source": [],
      "metadata": {
        "id": "_9vwrj5cfE7n"
      },
      "execution_count": null,
      "outputs": []
    },
    {
      "cell_type": "code",
      "source": [
        "!pip install torchsummary\n",
        "from torchsummary import summary\n",
        "use_cuda = torch.cuda.is_available()\n",
        "device = torch.device(\"cuda\" if use_cuda else \"cpu\")\n",
        "print(device)"
      ],
      "metadata": {
        "colab": {
          "base_uri": "https://localhost:8080/"
        },
        "id": "afhmsgOnfBEH",
        "outputId": "0a131e29-f85b-45e5-8261-b64d5188f5aa"
      },
      "execution_count": 17,
      "outputs": [
        {
          "output_type": "stream",
          "name": "stdout",
          "text": [
            "Looking in indexes: https://pypi.org/simple, https://us-python.pkg.dev/colab-wheels/public/simple/\n",
            "Requirement already satisfied: torchsummary in /usr/local/lib/python3.8/dist-packages (1.5.1)\n",
            "cpu\n"
          ]
        }
      ]
    },
    {
      "cell_type": "code",
      "source": [
        "torch.manual_seed(1)\n",
        "batch_size = 32\n",
        "\n",
        "\n",
        "kwargs = {'num_workers': 1, 'pin_memory': True} if use_cuda else {}\n",
        "train_loader = torch.utils.data.DataLoader(\n",
        "    train_dataset, batch_size=batch_size, shuffle=True, **kwargs)\n",
        "test_loader = torch.utils.data.DataLoader(\n",
        "    test_dataset, batch_size=batch_size, shuffle=True, **kwargs)\n"
      ],
      "metadata": {
        "id": "_YGZLl0Wd8BI"
      },
      "execution_count": 71,
      "outputs": []
    },
    {
      "cell_type": "code",
      "source": [],
      "metadata": {
        "colab": {
          "base_uri": "https://localhost:8080/"
        },
        "id": "a2nzacNRSzwz",
        "outputId": "dfb92228-5f47-4ed0-dfac-ef46c9ae496d"
      },
      "execution_count": 2,
      "outputs": [
        {
          "output_type": "stream",
          "name": "stdout",
          "text": [
            "Looking in indexes: https://pypi.org/simple, https://us-python.pkg.dev/colab-wheels/public/simple/\n",
            "Requirement already satisfied: torchsummary in /usr/local/lib/python3.8/dist-packages (1.5.1)\n",
            "cpu\n"
          ]
        }
      ]
    },
    {
      "cell_type": "code",
      "source": [
        "class Net(nn.Module):\n",
        "    def __init__(self):\n",
        "        super(Net, self).__init__()\n",
        "        self.fc1 = nn.Linear(2, 4)\n",
        "        # self.fc2 = nn.Linear(4, 4)\n",
        "        self.fc3 = nn.Linear(4, 1)\n",
        "\n",
        "    def forward(self, x):\n",
        "        # x = self.fc3(F.relu(self.fc2(F.relu(self.fc1(x)))))\n",
        "        x = self.fc3(F.sigmoid(self.fc1(x)))\n",
        "        return x.squeeze()\n",
        "\n",
        "\n",
        "model = Net().to(device)\n",
        "summary(model, input_size=(1, 2))"
      ],
      "metadata": {
        "colab": {
          "base_uri": "https://localhost:8080/"
        },
        "id": "4LT1WJIpS1TS",
        "outputId": "27bcf6a7-9782-4c1e-d265-3bee25f027ab"
      },
      "execution_count": 67,
      "outputs": [
        {
          "output_type": "stream",
          "name": "stdout",
          "text": [
            "----------------------------------------------------------------\n",
            "        Layer (type)               Output Shape         Param #\n",
            "================================================================\n",
            "            Linear-1                 [-1, 1, 4]              12\n",
            "            Linear-2                 [-1, 1, 1]               5\n",
            "================================================================\n",
            "Total params: 17\n",
            "Trainable params: 17\n",
            "Non-trainable params: 0\n",
            "----------------------------------------------------------------\n",
            "Input size (MB): 0.00\n",
            "Forward/backward pass size (MB): 0.00\n",
            "Params size (MB): 0.00\n",
            "Estimated Total Size (MB): 0.00\n",
            "----------------------------------------------------------------\n"
          ]
        },
        {
          "output_type": "stream",
          "name": "stderr",
          "text": [
            "/usr/local/lib/python3.8/dist-packages/torch/nn/functional.py:1967: UserWarning: nn.functional.sigmoid is deprecated. Use torch.sigmoid instead.\n",
            "  warnings.warn(\"nn.functional.sigmoid is deprecated. Use torch.sigmoid instead.\")\n"
          ]
        }
      ]
    },
    {
      "cell_type": "code",
      "source": [
        "from tqdm import tqdm\n",
        "def train(model, device, train_loader, optimizer, epoch):\n",
        "    model.train()\n",
        "    pbar = tqdm(train_loader)\n",
        "    for batch_idx, (data, target) in enumerate(pbar):\n",
        "        data, target = data.to(device), target.to(device)\n",
        "        optimizer.zero_grad()\n",
        "        output = model(data)\n",
        "        loss = F.mse_loss(output, target)          # Use MSE loss instead of nll\n",
        "        loss.backward()\n",
        "        optimizer.step()\n",
        "\n",
        "        # pred = output.argmax(dim=0, keepdim=True)  # get the index of the max log-probability\n",
        "        # print(data.shape)\n",
        "        # print(target.shape)\n",
        "        # print(output.shape)\n",
        "        # print(pred.shape)\n",
        "        # correct = pred.eq(target.view_as(pred)).sum().item()\n",
        "\n",
        "        # pbar.set_description(desc= f'EPOCH: {epoch}, loss={loss.item()} batch_id={batch_idx}, Accuracy: {correct / len(pred) * 100.}')\n",
        "        correct = sum(abs(torch.round(target) - torch.round(output)) == 0)\n",
        "        pbar.set_description(desc= f'EPOCH: {epoch}, loss={loss.item()} batch_id={batch_idx}, Accuracy: {correct / len(output) * 100.}')\n",
        "\n",
        "def test(model, device, test_loader):\n",
        "    model.eval()\n",
        "    test_loss = 0\n",
        "    correct = 0\n",
        "    with torch.no_grad():\n",
        "        for data, target in test_loader:\n",
        "            data, target = data.to(device), target.to(device)\n",
        "            output = model(data)\n",
        "            test_loss += F.mse_loss(output, target, reduction='sum').item()  # sum up batch loss\n",
        "            # pred = output.argmax(dim=0, keepdim=True)  # get the index of the max log-probability\n",
        "            # correct += pred.eq(target.view_as(pred)).sum().item()\n",
        "            correct += sum(abs(torch.round(target) - torch.round(output)) == 0)\n",
        "            print(f'target: {torch.round(target)}, output: {torch.round(output)}')\n",
        "\n",
        "    test_loss /= len(test_loader.dataset)\n",
        "\n",
        "    print('\\nTest set: Average loss: {:.4f}, Accuracy: {}/{} ({:.0f}%)\\n'.format(\n",
        "        test_loss, correct, len(test_loader.dataset),\n",
        "        100. * correct / len(test_loader.dataset)))"
      ],
      "metadata": {
        "id": "eyuJLehJbIeZ"
      },
      "execution_count": 68,
      "outputs": []
    },
    {
      "cell_type": "code",
      "source": [
        "a = torch.tensor([1., 2., 3.])\n",
        "b = torch.tensor([1.7, 0, 2.8])\n",
        "\n",
        "print(sum(abs(torch.round(a) - torch.round(b)) == 0))"
      ],
      "metadata": {
        "colab": {
          "base_uri": "https://localhost:8080/"
        },
        "id": "wvIWaKA0cqt_",
        "outputId": "562496b4-d651-4e25-8175-c105da220c57"
      },
      "execution_count": 56,
      "outputs": [
        {
          "output_type": "stream",
          "name": "stdout",
          "text": [
            "tensor(1)\n"
          ]
        }
      ]
    },
    {
      "cell_type": "code",
      "source": [
        "optimizer = optim.SGD(model.parameters(), lr=0.01, momentum=0.9)\n",
        "\n",
        "num_epochs = 50\n",
        "for epoch in range(1, num_epochs):\n",
        "    train(model, device, train_loader, optimizer, epoch)\n",
        "    test(model, device, test_loader)"
      ],
      "metadata": {
        "colab": {
          "base_uri": "https://localhost:8080/"
        },
        "id": "k5HAElXGdxKm",
        "outputId": "d55025a4-6c7a-4987-b33f-ee0beec93894"
      },
      "execution_count": 72,
      "outputs": [
        {
          "output_type": "stream",
          "name": "stderr",
          "text": [
            "EPOCH: 1, loss=154.94520568847656 batch_id=12, Accuracy: 4.0: 100%|██████████| 13/13 [00:00<00:00, 203.28it/s]\n"
          ]
        },
        {
          "output_type": "stream",
          "name": "stdout",
          "text": [
            "target: tensor([17., 32., 31.,  1., 16., 46., 40., 24., 43., 30., 24., 15., 10., 29.,\n",
            "        14., 23., 29., 48., 36., 20., 32., 22., 30., 40., 50., 33., 42., 28.,\n",
            "        45.,  9., 34., 26.]), output: tensor([30., 30., 32., 30., 32., 30., 32., 30., 32., 32., 30., 32., 30., 30.,\n",
            "        32., 31., 32., 30., 32., 30., 30., 30., 30., 30., 32., 32., 31., 30.,\n",
            "        32., 32., 32., 32.])\n",
            "target: tensor([58., 32., 16., 40., 58., 26., 32.,  8., 42., 34., 41., 31., 13., 14.,\n",
            "        40., 47., 36., 46., 28., 32., 45., 22., 27., 25., 40., 43., 44., 24.,\n",
            "         9., 33., 29., 39.]), output: tensor([30., 30., 30., 32., 31., 30., 32., 32., 31., 32., 32., 30., 30., 30.,\n",
            "        32., 32., 32., 30., 30., 30., 31., 30., 30., 30., 30., 30., 31., 30.,\n",
            "        30., 32., 30., 32.])\n",
            "target: tensor([30., 37., 24., 31., 27., 19., 18., 18., 57., 23., 41., 38., 17., 34.,\n",
            "        14., 25., 31., 59., 36., 10., 23., 33.,  7., 32., 50., 26., 26., 59.,\n",
            "        36., 44., 35., 37.]), output: tensor([30., 30., 32., 32., 32., 30., 32., 30., 30., 32., 30., 32., 30., 32.,\n",
            "        32., 32., 32., 31., 32., 31., 32., 32., 30., 30., 32., 32., 30., 31.,\n",
            "        30., 30., 30., 30.])\n",
            "target: tensor([35., 47.,  8., 18., 18., 60., 46.]), output: tensor([30., 30., 32., 32., 31., 31., 30.])\n",
            "\n",
            "Test set: Average loss: 169.0730, Accuracy: 3/103 (3%)\n",
            "\n"
          ]
        },
        {
          "output_type": "stream",
          "name": "stderr",
          "text": [
            "EPOCH: 2, loss=138.1938934326172 batch_id=12, Accuracy: 8.0: 100%|██████████| 13/13 [00:00<00:00, 198.89it/s]\n"
          ]
        },
        {
          "output_type": "stream",
          "name": "stdout",
          "text": [
            "target: tensor([ 8., 40., 25., 23., 17., 33., 41., 18., 45., 26., 18., 35., 37., 44.,\n",
            "        32., 42., 37., 23., 13., 32., 22., 44., 18., 26., 43., 46., 59., 47.,\n",
            "        30.,  9., 18., 32.]), output: tensor([31., 31., 31., 31., 28., 31., 31., 31., 31., 31., 28., 28., 31., 31.,\n",
            "        31., 31., 31., 31., 28., 28., 31., 31., 31., 28., 31., 31., 31., 31.,\n",
            "        31., 28., 31., 31.])\n",
            "target: tensor([17., 38., 10., 28., 58., 31.,  8., 34., 26., 41., 46., 40., 32., 14.,\n",
            "        45., 36., 59., 58., 46., 27., 31., 16., 24., 60., 14., 30., 19., 40.,\n",
            "        50.,  9., 24., 31.]), output: tensor([28., 31., 31., 28., 31., 31., 31., 31., 31., 31., 30., 31., 29., 31.,\n",
            "        31., 29., 31., 31., 31., 31., 31., 29., 31., 31., 31., 28., 31., 31.,\n",
            "        31., 31., 31., 31.])\n",
            "target: tensor([34., 26., 34., 32., 29., 33., 10., 27., 42., 36., 20., 30.,  1., 22.,\n",
            "        48., 25., 15., 28., 14., 36., 16., 24., 29., 24., 23., 50., 35., 32.,\n",
            "        57., 40., 31.,  7.]), output: tensor([31., 28., 31., 28., 28., 31., 28., 28., 31., 31., 31., 31., 28., 28.,\n",
            "        31., 31., 31., 28., 28., 31., 31., 31., 31., 28., 31., 31., 28., 28.,\n",
            "        31., 31., 31., 28.])\n",
            "target: tensor([33., 29., 47., 39., 43., 36., 40.]), output: tensor([31., 31., 31., 31., 31., 31., 31.])\n",
            "\n",
            "Test set: Average loss: 159.8076, Accuracy: 6/103 (6%)\n",
            "\n"
          ]
        },
        {
          "output_type": "stream",
          "name": "stderr",
          "text": [
            "EPOCH: 3, loss=203.94384765625 batch_id=12, Accuracy: 4.0: 100%|██████████| 13/13 [00:00<00:00, 218.25it/s]\n"
          ]
        },
        {
          "output_type": "stream",
          "name": "stdout",
          "text": [
            "target: tensor([29., 33., 47., 40., 17., 59., 24., 44., 10., 58., 18., 27., 42.,  8.,\n",
            "        40., 18., 38., 34., 41., 33., 40., 18., 30., 31., 36., 35., 32., 16.,\n",
            "        16., 22., 34., 40.]), output: tensor([32., 32., 32., 32., 28., 32., 32., 32., 32., 32., 32., 32., 32., 32.,\n",
            "        32., 28., 32., 32., 32., 32., 32., 32., 27., 32., 32., 32., 32., 32.,\n",
            "        32., 32., 32., 32.])\n",
            "target: tensor([25., 26., 50., 10., 46., 50., 24., 37., 42., 17., 19., 23., 46., 36.,\n",
            "        48., 24., 15., 14., 59., 57., 23., 22., 14., 20., 39., 29., 30., 31.,\n",
            "        18., 32., 32., 41.]), output: tensor([32., 32., 32., 32., 32., 32., 32., 32., 32., 32., 32., 32., 32., 32.,\n",
            "        32., 32., 32., 32., 32., 32., 32., 32., 32., 32., 32., 32., 32., 32.,\n",
            "        32., 32., 32., 32.])\n",
            "target: tensor([26.,  9., 27., 31., 30., 60., 58., 47., 14., 45., 32., 35., 24., 43.,\n",
            "        34., 46., 40., 32., 45., 37., 28., 26., 28., 43., 23.,  9., 32.,  7.,\n",
            "        25.,  1., 13., 33.]), output: tensor([32., 27., 32., 32., 32., 32., 32., 32., 27., 32., 32., 32., 27., 32.,\n",
            "        32., 32., 32., 27., 32., 32., 27., 27., 32., 32., 32., 32., 27., 28.,\n",
            "        32., 27., 32., 32.])\n",
            "target: tensor([31., 26., 36., 29., 36., 44.,  8.]), output: tensor([32., 27., 32., 32., 32., 32., 32.])\n",
            "\n",
            "Test set: Average loss: 159.0735, Accuracy: 4/103 (4%)\n",
            "\n"
          ]
        },
        {
          "output_type": "stream",
          "name": "stderr",
          "text": [
            "EPOCH: 4, loss=121.41217803955078 batch_id=12, Accuracy: 4.0: 100%|██████████| 13/13 [00:00<00:00, 197.72it/s]\n"
          ]
        },
        {
          "output_type": "stream",
          "name": "stdout",
          "text": [
            "target: tensor([26.,  9., 32., 22., 16., 47., 27., 32., 19.,  7., 42., 43., 26., 33.,\n",
            "        31., 23., 57., 34., 32., 37., 44.,  8., 18., 23., 20., 32., 42., 43.,\n",
            "        18., 24.,  8., 58.]), output: tensor([31., 25., 25., 26., 31., 31., 31., 31., 31., 25., 31., 31., 25., 31.,\n",
            "        31., 31., 31., 31., 25., 31., 31., 31., 31., 31., 31., 31., 31., 31.,\n",
            "        25., 31., 31., 31.])\n",
            "target: tensor([39., 36., 25.,  1., 25., 29., 24., 44., 27., 46., 37.,  9., 36., 22.,\n",
            "        50., 59., 31., 35., 13., 48., 31., 33., 35., 18., 17., 30., 24., 47.,\n",
            "        40., 40., 34., 15.]), output: tensor([31., 31., 31., 25., 31., 31., 31., 31., 31., 31., 31., 31., 31., 31.,\n",
            "        31., 31., 31., 25., 31., 31., 31., 31., 31., 31., 25., 25., 31., 31.,\n",
            "        31., 31., 31., 31.])\n",
            "target: tensor([14., 32., 50., 60., 40., 32., 17., 28., 26., 26., 30., 45., 40., 31.,\n",
            "        14., 16., 36., 23., 14., 10., 18., 46., 28., 46., 41., 59., 33., 36.,\n",
            "        41., 29., 29., 40.]), output: tensor([31., 31., 31., 31., 31., 31., 31., 25., 25., 31., 31., 31., 31., 31.,\n",
            "        31., 31., 31., 31., 25., 31., 31., 31., 25., 31., 31., 31., 31., 31.,\n",
            "        31., 31., 25., 31.])\n",
            "target: tensor([58., 34., 38., 45., 30., 10., 24.]), output: tensor([31., 31., 31., 31., 31., 29., 25.])\n",
            "\n",
            "Test set: Average loss: 155.2936, Accuracy: 4/103 (4%)\n",
            "\n"
          ]
        },
        {
          "output_type": "stream",
          "name": "stderr",
          "text": [
            "EPOCH: 5, loss=143.1166534423828 batch_id=12, Accuracy: 0.0: 100%|██████████| 13/13 [00:00<00:00, 190.25it/s]\n"
          ]
        },
        {
          "output_type": "stream",
          "name": "stdout",
          "text": [
            "target: tensor([58., 19., 29., 59., 29., 47., 60., 43., 33., 32., 34., 46., 46., 31.,\n",
            "        45., 37.,  1.,  8., 31., 40., 30., 16., 36., 40., 26., 18., 48., 35.,\n",
            "        32., 16., 17.,  9.]), output: tensor([31., 31., 31., 31., 30., 31., 31., 31., 31., 31., 31., 31., 31., 31.,\n",
            "        31., 31., 26., 30., 30., 31., 30., 30., 31., 31., 30., 30., 31., 31.,\n",
            "        31., 31., 31., 30.])\n",
            "target: tensor([ 8., 39., 15., 10., 13., 26., 22., 40., 36., 35., 24., 14., 50., 26.,\n",
            "        58., 27., 30., 29., 47., 28., 32., 23., 17., 45., 25., 23., 34., 34.,\n",
            "        42., 41., 33., 22.]), output: tensor([31., 31., 30., 31., 31., 31., 31., 31., 31., 31., 31., 30., 31., 31.,\n",
            "        31., 31., 31., 31., 31., 31., 30., 30., 31., 31., 31., 31., 31., 31.,\n",
            "        31., 31., 30., 31.])\n",
            "target: tensor([18., 59., 25., 36., 18., 14., 38., 31., 24., 23., 26., 33., 24., 36.,\n",
            "        14., 44., 40., 42., 43., 32.,  9., 41., 18., 30., 24., 46., 27., 44.,\n",
            "         7., 50., 40., 32.]), output: tensor([31., 31., 30., 31., 31., 31., 31., 31., 31., 30., 31., 30., 31., 31.,\n",
            "        31., 31., 31., 31., 31., 31., 31., 31., 30., 31., 30., 31., 30., 31.,\n",
            "        31., 31., 31., 31.])\n",
            "target: tensor([28., 20., 37., 32., 10., 31., 57.]), output: tensor([31., 31., 31., 31., 31., 30., 31.])\n",
            "\n",
            "Test set: Average loss: 162.7379, Accuracy: 3/103 (3%)\n",
            "\n"
          ]
        },
        {
          "output_type": "stream",
          "name": "stderr",
          "text": [
            "EPOCH: 6, loss=192.87704467773438 batch_id=12, Accuracy: 4.0: 100%|██████████| 13/13 [00:00<00:00, 196.79it/s]\n"
          ]
        },
        {
          "output_type": "stream",
          "name": "stdout",
          "text": [
            "target: tensor([25., 38., 10., 40., 34., 17., 57., 24., 19., 18., 36., 32., 32., 23.,\n",
            "        50., 41., 34., 35., 31., 34., 58., 50., 33., 47., 40., 25., 32., 40.,\n",
            "        23., 45., 30., 33.]), output: tensor([31., 31., 31., 31., 31., 31., 31., 31., 31., 31., 31., 31., 31., 28.,\n",
            "        31., 31., 31., 31., 31., 31., 31., 31., 31., 31., 28., 28., 31., 31.,\n",
            "        31., 31., 28., 28.])\n",
            "target: tensor([35., 37., 58., 26., 30.,  9., 15., 36., 60., 42., 26., 23., 46., 43.,\n",
            "        43., 16., 45., 13., 37., 29., 59., 47.,  7., 24., 18., 39., 24., 46.,\n",
            "        48., 46., 17., 14.]), output: tensor([31., 31., 31., 31., 31., 28., 28., 31., 31., 31., 31., 28., 31., 31.,\n",
            "        31., 31., 31., 31., 31., 28., 31., 31., 31., 31., 28., 31., 28., 31.,\n",
            "        31., 31., 31., 28.])\n",
            "target: tensor([32., 22., 29., 29., 14., 40., 20., 30., 42., 16., 44., 22.,  8., 41.,\n",
            "        18., 33.,  1.,  9., 44.,  8., 32., 28., 26., 27., 59., 10., 27., 18.,\n",
            "        31., 32., 31., 40.]), output: tensor([28., 31., 31., 31., 31., 28., 31., 31., 31., 28., 31., 31., 28., 28.,\n",
            "        31., 28., 26., 31., 31., 28., 31., 31., 28., 28., 31., 31., 31., 28.,\n",
            "        28., 31., 28., 31.])\n",
            "target: tensor([36., 28., 36., 24., 26., 14., 31.]), output: tensor([31., 31., 28., 31., 31., 28., 31.])\n",
            "\n",
            "Test set: Average loss: 158.0890, Accuracy: 2/103 (2%)\n",
            "\n"
          ]
        },
        {
          "output_type": "stream",
          "name": "stderr",
          "text": [
            "EPOCH: 7, loss=148.475341796875 batch_id=12, Accuracy: 0.0: 100%|██████████| 13/13 [00:00<00:00, 195.44it/s]"
          ]
        },
        {
          "output_type": "stream",
          "name": "stdout",
          "text": [
            "target: tensor([37., 30., 29., 40., 43., 42., 29., 35., 32., 40., 59., 18., 30., 36.,\n",
            "         1., 10., 48., 18., 16., 15., 29., 46., 26., 33.,  9., 60., 41., 26.,\n",
            "        20., 17., 24., 23.]), output: tensor([32., 32., 27., 32., 32., 32., 32., 32., 32., 27., 32., 27., 32., 27.,\n",
            "        25., 27., 32., 30., 27., 27., 32., 32., 32., 27., 27., 32., 32., 27.,\n",
            "        32., 32., 27., 32.])\n",
            "target: tensor([10., 18., 22., 14., 40., 58., 42., 13., 32., 31., 28., 17., 14., 45.,\n",
            "         7., 32., 40., 34., 33., 14., 25., 27., 24., 50., 34., 36., 44., 26.,\n",
            "         8., 28., 59., 36.]), output: tensor([32., 27., 32., 32., 27., 32., 32., 32., 27., 27., 32., 32., 27., 31.,\n",
            "        32., 32., 32., 31., 27., 27., 32., 32., 32., 27., 27., 27., 32., 27.,\n",
            "        27., 32., 32., 32.])\n",
            "target: tensor([45., 22., 23., 35., 26., 31., 47., 36., 31., 18., 57., 34., 16., 33.,\n",
            "         8., 32., 38., 31., 30., 27., 40., 47., 19.,  9., 37., 46., 43., 58.,\n",
            "        23., 39., 24., 50.]), output: tensor([32., 32., 27., 32., 32., 32., 32., 27., 27., 32., 32., 27., 32., 27.,\n",
            "        27., 32., 27., 27., 27., 27., 27., 31., 32., 32., 32., 32., 31., 32.,\n",
            "        27., 27., 32., 31.])\n"
          ]
        },
        {
          "output_type": "stream",
          "name": "stderr",
          "text": [
            "\n"
          ]
        },
        {
          "output_type": "stream",
          "name": "stdout",
          "text": [
            "target: tensor([32., 44., 24., 25., 41., 46., 32.]), output: tensor([32., 32., 32., 27., 27., 32., 32.])\n",
            "\n",
            "Test set: Average loss: 160.0626, Accuracy: 6/103 (6%)\n",
            "\n"
          ]
        },
        {
          "output_type": "stream",
          "name": "stderr",
          "text": [
            "EPOCH: 8, loss=222.96112060546875 batch_id=12, Accuracy: 0.0: 100%|██████████| 13/13 [00:00<00:00, 184.80it/s]\n"
          ]
        },
        {
          "output_type": "stream",
          "name": "stdout",
          "text": [
            "target: tensor([46., 15.,  8., 14., 26., 13., 17., 26., 58., 19., 18., 31., 40., 29.,\n",
            "        32., 40., 31., 37., 32., 30., 16., 33., 26., 37.,  1., 47., 33., 26.,\n",
            "        28., 23., 18., 46.]), output: tensor([34., 29., 29., 29., 34., 34., 34., 29., 34., 34., 29., 29., 29., 29.,\n",
            "        34., 34., 34., 34., 34., 34., 29., 34., 34., 34., 28., 34., 29., 34.,\n",
            "        34., 29., 29., 34.])\n",
            "target: tensor([43.,  7., 36., 41., 42., 29., 14., 36., 24., 22., 27., 40., 29., 20.,\n",
            "        42., 10., 16., 35., 39., 48., 36., 34., 31., 44.,  8., 27., 46., 43.,\n",
            "        47., 38., 34., 24.]), output: tensor([34., 34., 29., 29., 34., 34., 29., 29., 34., 34., 29., 34., 34., 34.,\n",
            "        34., 34., 34., 34., 34., 34., 34., 34., 29., 34., 29., 34., 34., 34.,\n",
            "        34., 34., 34., 34.])\n",
            "target: tensor([36., 23., 31.,  9., 33., 22., 24., 41., 10., 40., 57., 28., 18., 25.,\n",
            "        35., 14., 34., 30., 25., 44., 32., 50., 45., 58., 18., 24., 23., 45.,\n",
            "        32.,  9., 40., 32.]), output: tensor([34., 29., 29., 29., 29., 34., 34., 34., 33., 29., 34., 34., 34., 29.,\n",
            "        34., 34., 34., 29., 34., 34., 34., 34., 34., 34., 34., 29., 34., 34.,\n",
            "        29., 34., 34., 34.])\n",
            "target: tensor([32., 60., 50., 59., 17., 59., 30.]), output: tensor([34., 34., 34., 34., 34., 34., 34.])\n",
            "\n",
            "Test set: Average loss: 155.8996, Accuracy: 4/103 (4%)\n",
            "\n"
          ]
        },
        {
          "output_type": "stream",
          "name": "stderr",
          "text": [
            "EPOCH: 9, loss=132.3993377685547 batch_id=12, Accuracy: 4.0: 100%|██████████| 13/13 [00:00<00:00, 149.50it/s]"
          ]
        },
        {
          "output_type": "stream",
          "name": "stdout",
          "text": [
            "target: tensor([17., 19., 35., 31., 47., 36., 23., 25., 18., 46., 26., 10., 58., 60.,\n",
            "        27., 14., 18., 34., 34.,  7., 43., 26.,  9., 40.,  8., 37., 16., 41.,\n",
            "         9., 30., 30., 30.]), output: tensor([33., 33., 33., 27., 33., 33., 27., 27., 27., 33., 27., 33., 33., 33.,\n",
            "        27., 33., 27., 33., 33., 33., 33., 33., 33., 33., 27., 33., 27., 33.,\n",
            "        27., 27., 33., 33.])\n"
          ]
        },
        {
          "output_type": "stream",
          "name": "stderr",
          "text": [
            "\n"
          ]
        },
        {
          "output_type": "stream",
          "name": "stdout",
          "text": [
            "target: tensor([40., 46., 22., 46., 45., 26., 42., 17., 24., 40., 36., 36., 23., 35.,\n",
            "        44., 29., 32., 32., 31., 18., 58., 22., 10.,  1., 26., 27., 47., 32.,\n",
            "        24., 40., 50., 20.]), output: tensor([33., 33., 33., 33., 33., 33., 33., 33., 33., 33., 33., 28., 33., 33.,\n",
            "        33., 33., 27., 33., 27., 33., 33., 33., 33., 26., 33., 33., 33., 33.,\n",
            "        27., 33., 33., 33.])\n",
            "target: tensor([24., 37., 16., 41., 18., 43., 48., 23., 33., 28., 33., 28., 39., 44.,\n",
            "        59., 14., 24., 59., 31., 25., 34., 57., 50., 32.,  8., 33., 29., 38.,\n",
            "        32., 42., 29., 13.]), output: tensor([33., 33., 33., 27., 33., 33., 33., 27., 27., 33., 27., 33., 33., 33.,\n",
            "        33., 27., 33., 33., 33., 33., 33., 33., 33., 33., 27., 33., 33., 33.,\n",
            "        33., 33., 27., 33.])\n",
            "target: tensor([32., 45., 36., 40., 14., 31., 15.]), output: tensor([33., 33., 33., 33., 28., 33., 27.])\n",
            "\n",
            "Test set: Average loss: 150.0788, Accuracy: 2/103 (2%)\n",
            "\n"
          ]
        },
        {
          "output_type": "stream",
          "name": "stderr",
          "text": [
            "EPOCH: 10, loss=175.3516387939453 batch_id=12, Accuracy: 4.0: 100%|██████████| 13/13 [00:00<00:00, 180.01it/s]\n"
          ]
        },
        {
          "output_type": "stream",
          "name": "stdout",
          "text": [
            "target: tensor([16., 18., 38., 35., 50., 41., 30.,  9., 33., 10., 33., 46., 31., 59.,\n",
            "        34., 36., 24., 29., 37., 24., 44., 36.,  8., 27., 19., 48., 40., 35.,\n",
            "        41., 50., 26., 47.]), output: tensor([31., 31., 31., 31., 31., 31., 31., 31., 31., 31., 31., 31., 31., 31.,\n",
            "        31., 31., 31., 31., 31., 31., 31., 31., 25., 31., 31., 31., 31., 31.,\n",
            "        31., 31., 31., 31.])\n",
            "target: tensor([15., 45., 43., 18., 60., 44., 22., 32., 42., 59., 23., 31., 36., 43.,\n",
            "        16.,  1., 39., 32., 36., 40., 25., 46., 34., 14., 17., 23., 32., 28.,\n",
            "        24., 37., 24., 45.]), output: tensor([31., 31., 31., 31., 31., 31., 31., 31., 31., 31., 31., 31., 31., 31.,\n",
            "        31., 24., 31., 31., 31., 31., 31., 31., 31., 31., 31., 31., 31., 31.,\n",
            "        31., 31., 31., 31.])\n",
            "target: tensor([ 9., 29., 46., 30., 20., 40., 32., 40., 18., 57., 25., 32., 31., 40.,\n",
            "        14., 33., 10., 30., 13., 23., 22., 26., 27., 17., 28., 29., 31., 58.,\n",
            "        47., 34., 18.,  8.]), output: tensor([25., 31., 31., 31., 31., 31., 31., 31., 27., 31., 31., 31., 31., 31.,\n",
            "        31., 31., 31., 31., 31., 31., 31., 31., 31., 31., 31., 31., 31., 31.,\n",
            "        31., 31., 31., 31.])\n",
            "target: tensor([32., 42., 14.,  7., 26., 26., 58.]), output: tensor([31., 31., 31., 31., 31., 31., 31.])\n",
            "\n",
            "Test set: Average loss: 159.4073, Accuracy: 4/103 (4%)\n",
            "\n"
          ]
        },
        {
          "output_type": "stream",
          "name": "stderr",
          "text": [
            "EPOCH: 11, loss=165.23040771484375 batch_id=12, Accuracy: 4.0: 100%|██████████| 13/13 [00:00<00:00, 184.21it/s]\n"
          ]
        },
        {
          "output_type": "stream",
          "name": "stdout",
          "text": [
            "target: tensor([34., 43., 29., 40., 24.,  1.,  9., 42., 39., 58., 26., 50., 27., 33.,\n",
            "        18., 43., 20., 22., 45., 32., 22., 44., 30., 35., 31., 29., 35., 10.,\n",
            "        15., 36., 40., 34.]), output: tensor([31., 31., 31., 31., 31., 23., 31., 31., 31., 31., 31., 31., 31., 23.,\n",
            "        23., 31., 31., 31., 31., 31., 31., 31., 31., 31., 31., 23., 31., 31.,\n",
            "        26., 31., 31., 31.])\n",
            "target: tensor([28., 33., 32., 10., 23., 26., 25., 14., 31., 23., 32., 30., 14., 31.,\n",
            "        23., 26.,  7., 46., 29., 30., 46., 13., 19., 46., 24., 57., 37., 36.,\n",
            "        50., 18., 38., 42.]), output: tensor([31., 31., 31., 31., 31., 23., 23., 31., 23., 23., 23., 31., 31., 31.,\n",
            "        23., 31., 31., 31., 31., 31., 31., 31., 31., 31., 31., 31., 31., 31.,\n",
            "        31., 31., 31., 31.])\n",
            "target: tensor([47., 48., 41., 17., 60., 14., 16., 59., 32., 18., 36., 24.,  8., 25.,\n",
            "        45., 36., 44., 27., 59., 40., 58., 47., 17., 32., 32., 41., 18.,  9.,\n",
            "        34., 16., 33., 26.]), output: tensor([31., 31., 31., 31., 31., 23., 31., 31., 31., 31., 31., 31., 31., 31.,\n",
            "        31., 31., 31., 23., 31., 31., 31., 31., 31., 31., 31., 31., 23., 23.,\n",
            "        31., 23., 23., 31.])\n",
            "target: tensor([37.,  8., 28., 40., 24., 40., 31.]), output: tensor([31., 23., 31., 31., 31., 31., 23.])\n",
            "\n",
            "Test set: Average loss: 153.1295, Accuracy: 4/103 (4%)\n",
            "\n"
          ]
        },
        {
          "output_type": "stream",
          "name": "stderr",
          "text": [
            "EPOCH: 12, loss=145.76832580566406 batch_id=12, Accuracy: 8.0: 100%|██████████| 13/13 [00:00<00:00, 193.86it/s]"
          ]
        },
        {
          "output_type": "stream",
          "name": "stdout",
          "text": [
            "target: tensor([41., 48., 36., 29., 31., 42., 23., 30., 14., 18., 42., 23., 22., 45.,\n",
            "        31., 32., 34., 37.,  8., 36., 25., 25., 18., 59., 36., 30., 24., 32.,\n",
            "        26., 32., 24., 26.]), output: tensor([33., 33., 28., 33., 25., 33., 25., 33., 25., 33., 33., 25., 33., 33.,\n",
            "        33., 33., 33., 33., 25., 33., 33., 25., 33., 33., 33., 33., 33., 33.,\n",
            "        33., 33., 33., 25.])"
          ]
        },
        {
          "output_type": "stream",
          "name": "stderr",
          "text": [
            "\n"
          ]
        },
        {
          "output_type": "stream",
          "name": "stdout",
          "text": [
            "\n",
            "target: tensor([23., 40., 40., 46.,  9., 31., 40., 26., 60., 31., 47., 28., 35., 26.,\n",
            "        17., 57., 36.,  1.,  9., 45., 59., 29., 44., 16., 58., 34., 24., 43.,\n",
            "        28., 33., 10., 22.]), output: tensor([33., 33., 33., 33., 25., 25., 33., 33., 33., 33., 33., 33., 33., 33.,\n",
            "        33., 33., 33., 25., 33., 33., 33., 33., 33., 33., 33., 33., 25., 33.,\n",
            "        33., 25., 33., 33.])\n",
            "target: tensor([38.,  8., 32., 27., 20., 17., 40., 46., 15.,  7., 40., 29., 13., 44.,\n",
            "        14., 47., 33., 50., 32., 46., 10., 16., 30., 58., 33., 27., 35., 19.,\n",
            "        14., 18., 34., 37.]), output: tensor([33., 25., 25., 25., 33., 33., 33., 33., 25., 33., 33., 25., 33., 33.,\n",
            "        33., 33., 33., 33., 33., 33., 33., 25., 25., 33., 25., 33., 33., 33.,\n",
            "        27., 25., 33., 33.])\n",
            "target: tensor([41., 32., 24., 43., 50., 39., 18.]), output: tensor([25., 33., 33., 33., 33., 33., 25.])\n",
            "\n",
            "Test set: Average loss: 147.3898, Accuracy: 2/103 (2%)\n",
            "\n"
          ]
        },
        {
          "output_type": "stream",
          "name": "stderr",
          "text": [
            "EPOCH: 13, loss=132.99781799316406 batch_id=12, Accuracy: 0.0: 100%|██████████| 13/13 [00:00<00:00, 216.19it/s]\n"
          ]
        },
        {
          "output_type": "stream",
          "name": "stdout",
          "text": [
            "target: tensor([38., 24., 20., 36., 31., 42., 14., 24., 40., 33., 32., 25., 30., 23.,\n",
            "        40., 10., 13., 41., 46., 34., 39., 50., 26.,  7., 32., 37., 14., 10.,\n",
            "        50., 15., 31., 18.]), output: tensor([33., 25., 33., 25., 25., 33., 33., 33., 33., 25., 33., 33., 25., 25.,\n",
            "        33., 33., 33., 25., 33., 33., 33., 33., 33., 33., 33., 33., 25., 33.,\n",
            "        33., 25., 25., 33.])\n",
            "target: tensor([18., 41., 26., 29., 25., 19., 17., 43., 32., 33., 18., 43., 42., 40.,\n",
            "        58., 26., 32., 18., 48., 30., 36., 35., 24., 60., 28.,  8., 58., 23.,\n",
            "        40., 47.,  9., 16.]), output: tensor([33., 33., 33., 33., 25., 33., 33., 33., 33., 25., 25., 33., 33., 25.,\n",
            "        33., 33., 25., 25., 33., 33., 33., 33., 33., 33., 33., 25., 33., 33.,\n",
            "        33., 33., 25., 33.])\n",
            "target: tensor([31., 59., 14., 27., 24., 23., 32., 37., 46., 31., 40., 32., 26., 28.,\n",
            "        16.,  9., 27., 22., 17., 29., 36.,  8., 34.,  1., 59., 45., 46., 57.,\n",
            "        45., 44., 35., 33.]), output: tensor([33., 33., 25., 33., 33., 25., 33., 33., 33., 25., 25., 33., 25., 33.,\n",
            "        25., 33., 25., 33., 33., 33., 25., 25., 33., 25., 33., 33., 33., 33.,\n",
            "        33., 33., 33., 33.])\n",
            "target: tensor([36., 29., 22., 34., 30., 44., 47.]), output: tensor([33., 25., 33., 33., 33., 33., 33.])\n",
            "\n",
            "Test set: Average loss: 151.8153, Accuracy: 2/103 (2%)\n",
            "\n"
          ]
        },
        {
          "output_type": "stream",
          "name": "stderr",
          "text": [
            "EPOCH: 14, loss=134.39248657226562 batch_id=12, Accuracy: 0.0: 100%|██████████| 13/13 [00:00<00:00, 197.33it/s]\n"
          ]
        },
        {
          "output_type": "stream",
          "name": "stdout",
          "text": [
            "target: tensor([25., 33., 15., 32., 18., 32., 18., 40., 46., 40., 24., 29., 26., 18.,\n",
            "        37., 27.,  1., 45., 10., 23., 14., 31., 33., 28., 30., 27., 40., 13.,\n",
            "        23., 23., 41., 26.]), output: tensor([27., 27., 27., 35., 27., 35., 27., 27., 35., 27., 35., 27., 27., 27.,\n",
            "        35., 27., 26., 27., 35., 27., 35., 27., 27., 35., 27., 35., 35., 35.,\n",
            "        27., 27., 35., 35.])\n",
            "target: tensor([35.,  9., 17., 50., 58., 46., 29., 32.,  9., 60., 17., 58., 43., 43.,\n",
            "        16., 36., 40., 24., 38., 31., 31., 22.,  8., 32., 33., 26., 34., 48.,\n",
            "        28., 40., 20.,  7.]), output: tensor([35., 28., 35., 27., 27., 35., 35., 27., 27., 27., 35., 35., 35., 27.,\n",
            "        35., 27., 35., 35., 27., 35., 27., 35., 27., 35., 27., 27., 27., 35.,\n",
            "        35., 27., 35., 35.])\n",
            "target: tensor([57., 36., 46., 37., 42., 34., 42., 14., 32., 47., 59., 32., 26., 30.,\n",
            "        47., 45., 36., 30., 44., 16., 18., 31., 24., 25., 34., 19., 50., 22.,\n",
            "        10., 36., 41., 44.]), output: tensor([35., 27., 35., 35., 27., 27., 27., 27., 35., 27., 27., 35., 35., 35.,\n",
            "        35., 27., 35., 35., 35., 27., 35., 27., 35., 35., 27., 35., 27., 35.,\n",
            "        27., 27., 27., 27.])\n",
            "target: tensor([ 8., 35., 39., 24., 59., 14., 29.]), output: tensor([27., 35., 27., 27., 27., 27., 35.])\n",
            "\n",
            "Test set: Average loss: 185.5582, Accuracy: 3/103 (3%)\n",
            "\n"
          ]
        },
        {
          "output_type": "stream",
          "name": "stderr",
          "text": [
            "EPOCH: 15, loss=132.4934539794922 batch_id=12, Accuracy: 4.0: 100%|██████████| 13/13 [00:00<00:00, 181.65it/s]\n"
          ]
        },
        {
          "output_type": "stream",
          "name": "stdout",
          "text": [
            "target: tensor([45., 32., 16.,  8., 40., 28., 18., 27., 40., 32., 29., 40.,  9., 24.,\n",
            "        40., 33., 44., 30., 31., 14., 32., 25., 32., 41., 24., 25., 57., 18.,\n",
            "        35., 42.,  1., 47.]), output: tensor([36., 27., 29., 29., 27., 27., 29., 27., 29., 27., 29., 29., 29., 29.,\n",
            "        29., 30., 36., 27., 29., 29., 29., 29., 27., 27., 27., 27., 36., 27.,\n",
            "        27., 36., 26., 27.])\n",
            "target: tensor([35., 60., 50., 58., 26., 46.,  8., 10., 34., 24., 18., 36., 32., 59.,\n",
            "        10., 44., 39., 59., 22., 46., 58., 13., 29., 37., 50., 23., 31., 47.,\n",
            "        24., 33., 43., 32.]), output: tensor([27., 36., 29., 36., 29., 27., 29., 29., 36., 35., 35., 29., 27., 36.,\n",
            "        27., 36., 29., 36., 27., 27., 36., 27., 27., 27., 36., 36., 29., 36.,\n",
            "        27., 29., 34., 27.])\n",
            "target: tensor([30., 34.,  9., 18., 30., 26., 27., 20., 38., 42., 41., 15., 36., 43.,\n",
            "        34., 29., 16., 28., 31., 17., 19., 36., 48., 46., 23., 31., 26., 23.,\n",
            "        33., 40., 14.,  7.]), output: tensor([27., 29., 27., 29., 29., 29., 29., 27., 29., 36., 29., 29., 27., 36.,\n",
            "        29., 33., 27., 27., 29., 27., 27., 29., 27., 27., 29., 27., 27., 29.,\n",
            "        29., 27., 29., 27.])\n",
            "target: tensor([22., 14., 26., 36., 17., 45., 37.]), output: tensor([27., 27., 27., 29., 27., 36., 27.])\n",
            "\n",
            "Test set: Average loss: 140.2538, Accuracy: 2/103 (2%)\n",
            "\n"
          ]
        },
        {
          "output_type": "stream",
          "name": "stderr",
          "text": [
            "EPOCH: 16, loss=153.98927307128906 batch_id=12, Accuracy: 0.0: 100%|██████████| 13/13 [00:00<00:00, 176.47it/s]"
          ]
        },
        {
          "output_type": "stream",
          "name": "stdout",
          "text": [
            "target: tensor([45.,  8., 16., 32., 26., 24., 58., 44., 50., 28., 23., 40., 32., 41.,\n",
            "        38., 23., 40., 10., 32., 14., 47., 44., 22., 27., 25.,  8., 32., 17.,\n",
            "        15., 46., 31., 37.]), output: tensor([30., 30., 30., 30., 29., 30., 38., 38., 30., 29., 30., 38., 38., 30.,\n",
            "        30., 33., 30., 29., 29., 30., 29., 38., 29., 29., 38., 30., 29., 29.,\n",
            "        30., 29., 30., 38.])"
          ]
        },
        {
          "output_type": "stream",
          "name": "stderr",
          "text": [
            "\n"
          ]
        },
        {
          "output_type": "stream",
          "name": "stdout",
          "text": [
            "\n",
            "target: tensor([29., 36., 40., 18., 20., 36., 31., 40., 24., 33., 36., 14., 48., 41.,\n",
            "        30., 30., 10., 47., 24., 18., 30., 35., 31., 26., 59., 18., 40., 37.,\n",
            "        46., 32.,  1., 28.]), output: tensor([38., 30., 29., 30., 38., 30., 30., 30., 38., 30., 29., 30., 38., 30.,\n",
            "        29., 38., 30., 30., 29., 30., 30., 29., 38., 30., 38., 29., 30., 38.,\n",
            "        38., 29., 28., 29.])\n",
            "target: tensor([22., 14., 23., 35., 39.,  7., 26., 60., 50., 42., 31., 59., 34., 17.,\n",
            "        26., 43.,  9., 36., 34., 24., 29., 33., 43., 46., 57., 27., 16., 33.,\n",
            "        58.,  9., 25., 18.]), output: tensor([29., 29., 30., 29., 30., 29., 29., 38., 30., 37., 30., 38., 30., 29.,\n",
            "        30., 30., 30., 30., 30., 30., 30., 30., 38., 29., 38., 30., 29., 30.,\n",
            "        38., 29., 30., 30.])\n",
            "target: tensor([32., 19., 13., 29., 34., 42., 45.]), output: tensor([29., 38., 29., 29., 30., 38., 30.])\n",
            "\n",
            "Test set: Average loss: 141.1153, Accuracy: 2/103 (2%)\n",
            "\n"
          ]
        },
        {
          "output_type": "stream",
          "name": "stderr",
          "text": [
            "EPOCH: 17, loss=120.67889404296875 batch_id=12, Accuracy: 0.0: 100%|██████████| 13/13 [00:00<00:00, 184.80it/s]"
          ]
        },
        {
          "output_type": "stream",
          "name": "stdout",
          "text": [
            "target: tensor([35., 57., 58., 30., 23., 14., 23., 59., 46., 32., 26., 36., 40., 25.,\n",
            "        30., 23., 42., 40., 27., 26., 46., 24., 44., 38., 40., 31., 41., 40.,\n",
            "        32., 14., 19.,  9.]), output: tensor([27., 38., 38., 28., 28., 28., 28., 38., 27., 27., 28., 28., 28., 28.,\n",
            "        27., 30., 35., 28., 27., 27., 27., 28., 38., 28., 28., 27., 28., 27.,\n",
            "        27., 27., 29., 28.])\n",
            "target: tensor([28., 46., 45., 58.,  9., 18., 47., 50., 18., 24.,  8.,  7., 45., 24.,\n",
            "        28., 29., 32., 33., 36., 33., 50., 60., 34., 22., 43., 40.,  8., 16.,\n",
            "        43., 41., 18.,  1.]), output: tensor([27., 27., 28., 38., 27., 27., 28., 28., 28., 27., 28., 27., 28., 27.,\n",
            "        27., 27., 27., 28., 28., 28., 28., 38., 28., 27., 28., 27., 28., 27.,\n",
            "        38., 27., 28., 26.])\n"
          ]
        },
        {
          "output_type": "stream",
          "name": "stderr",
          "text": [
            "\n"
          ]
        },
        {
          "output_type": "stream",
          "name": "stdout",
          "text": [
            "target: tensor([59., 47., 10., 31., 33., 24., 30., 36., 10., 34., 14., 31., 29., 17.,\n",
            "        32., 25., 26., 42., 13., 32., 17., 15., 36., 44., 26., 39., 32., 27.,\n",
            "        29., 37., 22., 31.]), output: tensor([37., 27., 27., 28., 28., 38., 27., 27., 28., 28., 28., 28., 38., 27.,\n",
            "        27., 38., 27., 38., 27., 28., 27., 28., 28., 38., 28., 28., 38., 28.,\n",
            "        28., 29., 27., 28.])\n",
            "target: tensor([37., 48., 35., 16., 20., 34., 18.]), output: tensor([29., 27., 27., 28., 27., 28., 28.])\n",
            "\n",
            "Test set: Average loss: 143.9376, Accuracy: 1/103 (1%)\n",
            "\n"
          ]
        },
        {
          "output_type": "stream",
          "name": "stderr",
          "text": [
            "EPOCH: 18, loss=67.13572692871094 batch_id=12, Accuracy: 12.0: 100%|██████████| 13/13 [00:00<00:00, 179.01it/s]\n"
          ]
        },
        {
          "output_type": "stream",
          "name": "stdout",
          "text": [
            "target: tensor([58., 48., 10., 18., 32., 45., 25., 40., 42., 32., 23., 31., 43., 59.,\n",
            "        47., 37., 32.,  7., 35., 38., 40., 10., 28., 14., 57., 58., 59., 23.,\n",
            "        18.,  8., 33., 25.]), output: tensor([37., 37., 26., 27., 37., 37., 37., 37., 37., 27., 37., 37., 37., 37.,\n",
            "        37., 37., 27., 26., 26., 37., 37., 37., 26., 27., 37., 37., 37., 27.,\n",
            "        27., 27., 27., 27.])\n",
            "target: tensor([29., 60., 29., 33., 23., 37., 16., 30., 34., 40., 31., 18., 17., 30.,\n",
            "        50., 13., 22., 47., 36., 24., 14., 36., 39., 40.,  1., 36., 27., 20.,\n",
            "        18., 17., 14., 44.]), output: tensor([26., 37., 37., 37., 27., 37., 27., 26., 37., 37., 27., 26., 26., 27.,\n",
            "        37., 26., 37., 37., 37., 37., 26., 26., 37., 37., 25., 37., 26., 37.,\n",
            "        37., 26., 35., 37.])\n",
            "target: tensor([46., 42., 32., 50., 26., 22., 31., 35., 30., 26., 46., 33., 15., 24.,\n",
            "         9., 26., 19.,  9., 34.,  8., 32., 29., 43., 34., 28., 31., 41., 16.,\n",
            "        26., 27., 41., 32.]), output: tensor([37., 37., 26., 37., 26., 26., 27., 26., 37., 37., 37., 27., 27., 37.,\n",
            "        26., 27., 37., 27., 37., 27., 26., 27., 37., 37., 26., 37., 37., 26.,\n",
            "        26., 27., 37., 26.])\n",
            "target: tensor([24., 24., 45., 40., 44., 36., 46.]), output: tensor([27., 26., 37., 37., 37., 37., 37.])\n",
            "\n",
            "Test set: Average loss: 114.9747, Accuracy: 5/103 (5%)\n",
            "\n"
          ]
        },
        {
          "output_type": "stream",
          "name": "stderr",
          "text": [
            "EPOCH: 19, loss=99.3812484741211 batch_id=12, Accuracy: 4.0: 100%|██████████| 13/13 [00:00<00:00, 155.60it/s]\n"
          ]
        },
        {
          "output_type": "stream",
          "name": "stdout",
          "text": [
            "target: tensor([33., 30.,  7., 42., 39., 32., 34., 46., 46., 10., 45., 47., 25., 32.,\n",
            "        14., 16., 14., 27., 24., 23., 26., 36., 15., 47., 40., 22., 57., 32.,\n",
            "        17.,  1., 19., 58.]), output: tensor([23., 35., 23., 35., 35., 23., 35., 35., 35., 35., 35., 35., 23., 23.,\n",
            "        23., 23., 23., 23., 23., 23., 23., 35., 35., 35., 35., 35., 35., 23.,\n",
            "        23., 22., 35., 35.])\n",
            "target: tensor([ 9., 10., 37., 34., 31., 26., 33., 40., 24., 27., 60., 28., 43., 42.,\n",
            "        50., 31., 58., 24., 30., 30., 28., 31., 43., 34., 14., 38., 25., 22.,\n",
            "        18., 16., 17.,  9.]), output: tensor([23., 23., 35., 35., 35., 35., 35., 35., 35., 23., 35., 23., 35., 35.,\n",
            "        35., 33., 35., 35., 35., 23., 23., 23., 35., 35., 35., 35., 35., 23.,\n",
            "        35., 23., 23., 23.])\n",
            "target: tensor([35., 23., 59., 40., 44., 41., 44., 36., 46., 13., 20., 32., 29., 26.,\n",
            "        33., 31., 29., 40., 37., 36.,  8., 32., 18., 50., 18., 48., 35., 18.,\n",
            "        23., 32., 59., 24.]), output: tensor([23., 23., 35., 35., 35., 35., 35., 35., 35., 23., 35., 23., 35., 23.,\n",
            "        35., 35., 35., 35., 35., 35., 23., 35., 23., 35., 23., 35., 23., 23.,\n",
            "        35., 23., 35., 35.])\n",
            "target: tensor([29., 41., 36., 40.,  8., 45., 26.]), output: tensor([23., 35., 23., 35., 35., 35., 23.])\n",
            "\n",
            "Test set: Average loss: 123.4855, Accuracy: 2/103 (2%)\n",
            "\n"
          ]
        },
        {
          "output_type": "stream",
          "name": "stderr",
          "text": [
            "EPOCH: 20, loss=121.44273376464844 batch_id=12, Accuracy: 0.0: 100%|██████████| 13/13 [00:00<00:00, 171.46it/s]\n"
          ]
        },
        {
          "output_type": "stream",
          "name": "stdout",
          "text": [
            "target: tensor([31., 40., 30., 17., 34., 18., 31., 24., 36., 18., 48., 39., 42., 44.,\n",
            "        33., 58., 16., 32., 13., 34., 24., 43., 15., 22., 14., 27.,  8.,  9.,\n",
            "        32., 35., 58., 14.]), output: tensor([22., 34., 22., 34., 34., 23., 34., 34., 34., 22., 34., 34., 34., 34.,\n",
            "        34., 34., 22., 34., 34., 34., 22., 34., 22., 34., 27., 34., 22., 22.,\n",
            "        22., 34., 34., 22.])\n",
            "target: tensor([ 1., 46., 19., 23., 23., 26., 24., 26., 29., 26., 50., 18., 43., 32.,\n",
            "        36., 24., 33., 47., 57., 50., 32., 31., 28., 16., 37., 10.,  9., 59.,\n",
            "        25., 29., 40., 46.]), output: tensor([22., 34., 34., 22., 22., 34., 34., 22., 34., 23., 34., 22., 34., 34.,\n",
            "        34., 23., 22., 34., 34., 34., 23., 34., 23., 34., 34., 34., 23., 34.,\n",
            "        22., 22., 34., 34.])\n",
            "target: tensor([33.,  7., 45., 25., 34., 40., 10., 26., 41., 17., 20., 18.,  8., 27.,\n",
            "        35., 23., 22., 32., 14., 31., 42., 47., 30., 32., 60., 29., 36., 46.,\n",
            "        28., 36., 40., 59.]), output: tensor([22., 23., 34., 34., 34., 34., 34., 23., 34., 23., 34., 34., 22., 22.,\n",
            "        34., 34., 34., 23., 23., 22., 34., 34., 23., 34., 34., 34., 34., 34.,\n",
            "        34., 34., 34., 34.])\n",
            "target: tensor([37., 40., 41., 44., 38., 45., 30.]), output: tensor([34., 34., 28., 34., 34., 34., 34.])\n",
            "\n",
            "Test set: Average loss: 125.4215, Accuracy: 3/103 (3%)\n",
            "\n"
          ]
        },
        {
          "output_type": "stream",
          "name": "stderr",
          "text": [
            "EPOCH: 21, loss=162.43594360351562 batch_id=12, Accuracy: 0.0: 100%|██████████| 13/13 [00:00<00:00, 175.17it/s]\n"
          ]
        },
        {
          "output_type": "stream",
          "name": "stdout",
          "text": [
            "target: tensor([40., 57., 26., 13., 15., 10., 33., 19., 30., 32., 23., 50., 32., 46.,\n",
            "        41., 24., 26.,  1., 31., 42.,  9., 27., 30., 48., 39., 46., 36., 40.,\n",
            "        36.,  9., 50., 44.]), output: tensor([35., 35., 23., 22., 35., 22., 35., 35., 22., 23., 35., 35., 22., 35.,\n",
            "        35., 35., 35., 22., 35., 35., 22., 35., 35., 35., 35., 35., 35., 35.,\n",
            "        35., 22., 35., 35.])\n",
            "target: tensor([29., 26., 42., 60., 43.,  7., 34., 22., 29., 18., 28., 59., 32., 37.,\n",
            "        17., 32., 26., 29.,  8., 31., 23., 25., 36., 40., 14., 59., 18., 16.,\n",
            "        24., 18., 31., 58.]), output: tensor([35., 22., 35., 35., 35., 22., 35., 22., 22., 35., 22., 35., 22., 35.,\n",
            "        22., 35., 22., 35., 35., 35., 35., 35., 35., 35., 22., 35., 29., 35.,\n",
            "        22., 22., 22., 35.])\n",
            "target: tensor([16., 27., 35., 24., 33., 40., 34., 14., 35., 45., 20., 23., 10., 46.,\n",
            "        58., 38., 41., 47., 17., 32., 18., 24., 28., 43., 37., 40., 32., 44.,\n",
            "        33., 47., 14., 45.]), output: tensor([23., 25., 22., 35., 35., 35., 35., 33., 24., 35., 35., 35., 35., 35.,\n",
            "        35., 35., 35., 35., 22., 35., 22., 35., 22., 35., 35., 35., 22., 35.,\n",
            "        35., 35., 35., 35.])\n",
            "target: tensor([36., 25., 22.,  8., 30., 31., 34.]), output: tensor([35., 35., 35., 22., 35., 35., 35.])\n",
            "\n",
            "Test set: Average loss: 130.3070, Accuracy: 1/103 (1%)\n",
            "\n"
          ]
        },
        {
          "output_type": "stream",
          "name": "stderr",
          "text": [
            "EPOCH: 22, loss=198.49874877929688 batch_id=12, Accuracy: 4.0: 100%|██████████| 13/13 [00:00<00:00, 211.51it/s]\n"
          ]
        },
        {
          "output_type": "stream",
          "name": "stdout",
          "text": [
            "target: tensor([35.,  7., 19., 39., 32., 31., 37., 18., 24., 57., 20.,  8., 30., 45.,\n",
            "        31., 17., 44., 23., 50., 24., 37., 10., 36., 31., 33., 26., 32., 26.,\n",
            "        32., 28., 13., 36.]), output: tensor([35., 35., 35., 35., 22., 22., 35., 22., 22., 35., 35., 22., 22., 35.,\n",
            "        35., 35., 35., 22., 35., 35., 35., 35., 22., 35., 22., 35., 35., 22.,\n",
            "        35., 35., 35., 35.])\n",
            "target: tensor([43., 50., 14., 25., 30., 42., 60., 48., 34., 41., 23., 18., 22., 41.,\n",
            "        27., 47., 58., 31., 47., 34., 14., 15., 36., 16., 23., 40., 25., 33.,\n",
            "        46.,  9., 35., 40.]), output: tensor([35., 35., 22., 22., 35., 35., 35., 35., 35., 22., 35., 22., 35., 35.,\n",
            "        35., 35., 35., 22., 35., 35., 22., 22., 35., 22., 22., 22., 35., 35.,\n",
            "        35., 22., 35., 35.])\n",
            "target: tensor([16., 43., 32., 30.,  1., 18., 24., 26., 28., 29., 27., 59., 46., 26.,\n",
            "        33., 40.,  8., 40., 45., 29., 46., 42., 29., 17., 32., 22., 18., 32.,\n",
            "        59.,  9., 14., 36.]), output: tensor([35., 35., 35., 35., 22., 35., 35., 35., 35., 35., 22., 35., 35., 35.,\n",
            "        22., 35., 22., 22., 35., 22., 35., 35., 35., 35., 35., 35., 35., 35.,\n",
            "        35., 33., 35., 35.])\n",
            "target: tensor([24., 40., 58., 10., 34., 44., 38.]), output: tensor([35., 35., 35., 35., 35., 35., 35.])\n",
            "\n",
            "Test set: Average loss: 150.6332, Accuracy: 2/103 (2%)\n",
            "\n"
          ]
        },
        {
          "output_type": "stream",
          "name": "stderr",
          "text": [
            "EPOCH: 23, loss=162.5135498046875 batch_id=12, Accuracy: 4.0: 100%|██████████| 13/13 [00:00<00:00, 195.59it/s]\n"
          ]
        },
        {
          "output_type": "stream",
          "name": "stdout",
          "text": [
            "target: tensor([58., 33., 24., 40., 33., 30., 59.,  9., 22., 47., 22.,  8.,  7., 20.,\n",
            "        36., 24., 24., 44., 34., 29., 25., 35., 50., 18., 25., 34., 47., 36.,\n",
            "        32., 60., 37., 14.]), output: tensor([35., 24., 24., 35., 35., 35., 35., 35., 35., 35., 35., 24., 35., 35.,\n",
            "        25., 35., 35., 35., 35., 24., 24., 35., 35., 35., 35., 35., 35., 35.,\n",
            "        35., 35., 35., 24.])\n",
            "target: tensor([16., 35., 57., 31., 36., 42., 18., 26., 39., 31., 19., 14., 26., 23.,\n",
            "        23., 30., 33., 14., 24., 27., 18., 37., 10., 48., 32., 28., 40., 30.,\n",
            "        58., 18., 31., 17.]), output: tensor([24., 35., 35., 35., 24., 35., 24., 35., 35., 24., 35., 24., 35., 24.,\n",
            "        35., 35., 24., 35., 35., 24., 24., 35., 35., 35., 35., 35., 24., 24.,\n",
            "        35., 35., 24., 35.])\n",
            "target: tensor([59., 27.,  1.,  9., 32., 36., 32., 41., 46., 40., 17., 38., 13., 43.,\n",
            "        31., 29., 41., 34., 46., 26., 26., 45., 32., 44., 15., 40., 23., 10.,\n",
            "         8., 45., 40., 42.]), output: tensor([35., 35., 22., 24., 35., 35., 24., 35., 35., 24., 35., 35., 35., 35.,\n",
            "        35., 35., 24., 35., 35., 24., 35., 35., 35., 35., 24., 35., 24., 35.,\n",
            "        24., 35., 35., 35.])\n",
            "target: tensor([28., 29., 16., 50., 46., 43., 32.]), output: tensor([35., 35., 35., 35., 35., 35., 35.])\n",
            "\n",
            "Test set: Average loss: 152.5098, Accuracy: 3/103 (3%)\n",
            "\n"
          ]
        },
        {
          "output_type": "stream",
          "name": "stderr",
          "text": [
            "EPOCH: 24, loss=116.5815200805664 batch_id=12, Accuracy: 4.0: 100%|██████████| 13/13 [00:00<00:00, 190.26it/s]\n"
          ]
        },
        {
          "output_type": "stream",
          "name": "stdout",
          "text": [
            "target: tensor([19., 16., 25., 32., 34., 29., 27., 27., 30., 33., 38., 28., 45., 14.,\n",
            "        45., 17., 31., 50., 37., 18.,  1., 47., 44., 58., 18., 32.,  8., 15.,\n",
            "        33., 35., 46., 48.]), output: tensor([33., 23., 23., 23., 33., 33., 23., 33., 33., 23., 33., 33., 33., 33.,\n",
            "        33., 33., 23., 33., 33., 33., 20., 33., 33., 33., 23., 33., 23., 23.,\n",
            "        33., 33., 33., 33.])\n",
            "target: tensor([32., 31., 26., 22., 10., 23., 24., 40.,  9., 46., 24., 59., 46., 43.,\n",
            "        14., 57., 33., 24., 36., 40., 26., 59.,  9., 32., 24., 26., 44., 30.,\n",
            "        28., 13., 18., 41.]), output: tensor([33., 33., 33., 33., 33., 23., 33., 33., 33., 33., 23., 33., 33., 33.,\n",
            "        23., 33., 23., 33., 23., 33., 33., 33., 23., 33., 33., 33., 33., 23.,\n",
            "        33., 33., 33., 23.])\n",
            "target: tensor([41., 36., 40., 16., 36., 29., 29., 32., 31., 18., 60., 37., 34., 42.,\n",
            "        40.,  7., 22., 47., 10., 25., 23.,  8., 50., 31., 42., 36., 30., 40.,\n",
            "        43., 17., 20., 39.]), output: tensor([33., 33., 33., 33., 33., 23., 33., 33., 33., 23., 33., 33., 33., 33.,\n",
            "        33., 33., 33., 33., 33., 33., 33., 23., 33., 23., 33., 33., 33., 33.,\n",
            "        33., 33., 33., 33.])\n",
            "target: tensor([58., 14., 32., 35., 23., 26., 34.]), output: tensor([33., 23., 33., 33., 23., 23., 33.])\n",
            "\n",
            "Test set: Average loss: 144.4388, Accuracy: 3/103 (3%)\n",
            "\n"
          ]
        },
        {
          "output_type": "stream",
          "name": "stderr",
          "text": [
            "EPOCH: 25, loss=158.87562561035156 batch_id=12, Accuracy: 0.0: 100%|██████████| 13/13 [00:00<00:00, 201.99it/s]\n"
          ]
        },
        {
          "output_type": "stream",
          "name": "stdout",
          "text": [
            "target: tensor([30., 36., 10., 24., 18., 41., 58., 43., 50., 39., 18., 30., 48., 37.,\n",
            "        22., 17., 27., 24.,  7.,  8., 23., 16., 59., 32.,  9., 40., 42., 18.,\n",
            "        31., 34., 58., 42.]), output: tensor([32., 32., 32., 32., 23., 32., 32., 32., 32., 32., 32., 32., 32., 32.,\n",
            "        32., 32., 32., 32., 32., 32., 23., 23., 32., 32., 32., 32., 32., 23.,\n",
            "        32., 32., 32., 32.])\n",
            "target: tensor([31., 15., 26., 60.,  8.,  9., 31., 28., 23., 17., 32., 29., 14., 29.,\n",
            "        14., 24., 47., 47., 32., 26., 35., 36., 33., 26., 44., 10., 34., 36.,\n",
            "        59., 29., 46., 40.]), output: tensor([32., 32., 32., 32., 23., 23., 23., 32., 32., 32., 32., 32., 23., 32.,\n",
            "        32., 32., 32., 32., 32., 32., 32., 32., 32., 32., 32., 32., 32., 32.,\n",
            "        32., 32., 32., 32.])\n",
            "target: tensor([28., 40., 46., 45., 30., 25., 34., 57., 33., 22., 26., 43., 37., 20.,\n",
            "        46., 35., 45., 13., 27., 16., 32., 25., 36., 31., 50., 19., 23., 41.,\n",
            "        33., 18., 44.,  1.]), output: tensor([32., 32., 32., 32., 32., 23., 32., 32., 32., 32., 23., 32., 32., 32.,\n",
            "        32., 32., 32., 32., 23., 32., 32., 32., 32., 32., 32., 32., 23., 32.,\n",
            "        23., 32., 32., 19.])\n",
            "target: tensor([40., 38., 32., 24., 32., 14., 40.]), output: tensor([32., 32., 23., 32., 32., 32., 32.])\n",
            "\n",
            "Test set: Average loss: 148.2902, Accuracy: 7/103 (7%)\n",
            "\n"
          ]
        },
        {
          "output_type": "stream",
          "name": "stderr",
          "text": [
            "EPOCH: 26, loss=160.8787078857422 batch_id=12, Accuracy: 4.0: 100%|██████████| 13/13 [00:00<00:00, 194.94it/s]\n"
          ]
        },
        {
          "output_type": "stream",
          "name": "stdout",
          "text": [
            "target: tensor([30., 33., 39., 30., 33., 23., 45., 15., 35., 16., 24., 42., 43., 24.,\n",
            "        29., 26., 57., 35., 42., 22., 18., 36., 28., 47.,  7., 59., 36., 26.,\n",
            "        27., 29., 29., 26.]), output: tensor([30., 23., 32., 32., 32., 23., 32., 23., 32., 32., 32., 32., 32., 32.,\n",
            "        23., 32., 32., 32., 32., 32., 23., 32., 32., 32., 32., 32., 32., 23.,\n",
            "        23., 32., 32., 32.])\n",
            "target: tensor([32., 32., 41., 47.,  9., 58., 16., 14., 46., 40., 40., 31., 40., 18.,\n",
            "        48., 40., 60., 59., 28., 23., 31., 18., 30., 17., 14., 58., 31., 41.,\n",
            "        33., 22., 46., 10.]), output: tensor([23., 32., 32., 32., 23., 32., 23., 32., 32., 32., 32., 23., 32., 23.,\n",
            "        32., 32., 32., 32., 32., 32., 32., 32., 32., 32., 32., 32., 23., 32.,\n",
            "        23., 32., 32., 32.])\n",
            "target: tensor([10., 17.,  9., 38., 32., 45., 23., 32., 26., 37.,  1., 44., 19., 36.,\n",
            "        40., 24., 34., 32., 25., 37., 44., 34.,  8.,  8., 20., 32., 50., 25.,\n",
            "        13., 24., 36., 27.]), output: tensor([32., 32., 32., 32., 32., 32., 23., 32., 32., 32., 18., 32., 32., 32.,\n",
            "        32., 32., 32., 32., 23., 32., 32., 32., 23., 23., 32., 32., 32., 32.,\n",
            "        32., 23., 32., 32.])\n",
            "target: tensor([31., 18., 14., 50., 43., 46., 34.]), output: tensor([32., 32., 23., 32., 32., 32., 32.])\n",
            "\n",
            "Test set: Average loss: 143.8567, Accuracy: 8/103 (8%)\n",
            "\n"
          ]
        },
        {
          "output_type": "stream",
          "name": "stderr",
          "text": [
            "EPOCH: 27, loss=234.29164123535156 batch_id=12, Accuracy: 4.0: 100%|██████████| 13/13 [00:00<00:00, 191.65it/s]\n"
          ]
        },
        {
          "output_type": "stream",
          "name": "stdout",
          "text": [
            "target: tensor([23., 44., 36., 19., 28., 16., 46., 25., 60., 58., 46., 29., 43., 13.,\n",
            "        45., 42., 26., 47., 32.,  7., 29., 57.,  9., 37., 24., 43., 38., 40.,\n",
            "        28., 32., 59., 48.]), output: tensor([24., 33., 33., 33., 33., 24., 33., 24., 33., 33., 33., 33., 33., 33.,\n",
            "        33., 33., 24., 33., 33., 33., 24., 33., 24., 33., 33., 33., 33., 33.,\n",
            "        33., 33., 33., 33.])\n",
            "target: tensor([17., 26., 42., 37., 58., 27., 14., 50.,  8., 23., 24., 31., 36.,  8.,\n",
            "        16., 32., 14., 31., 24., 26., 36., 23., 18., 22., 26.,  1., 40., 18.,\n",
            "        24., 18., 41., 30.]), output: tensor([33., 33., 33., 33., 33., 24., 33., 33., 24., 33., 33., 24., 33., 24.,\n",
            "        33., 33., 27., 24., 24., 33., 33., 24., 33., 33., 33., 18., 33., 24.,\n",
            "        33., 33., 33., 33.])\n",
            "target: tensor([34., 35., 33., 30., 22., 32., 41., 33., 20., 34., 59., 47., 32., 39.,\n",
            "        25., 10., 15., 45., 33., 17., 44., 10., 36., 14., 27., 29., 18., 40.,\n",
            "        40., 35., 31., 50.]), output: tensor([33., 33., 24., 24., 33., 33., 24., 33., 33., 33., 33., 33., 24., 33.,\n",
            "        33., 33., 24., 33., 24., 33., 33., 33., 33., 24., 33., 33., 24., 33.,\n",
            "        33., 33., 33., 33.])\n",
            "target: tensor([46., 40., 31., 34., 30.,  9., 32.]), output: tensor([33., 33., 33., 33., 33., 33., 33.])\n",
            "\n",
            "Test set: Average loss: 143.1456, Accuracy: 2/103 (2%)\n",
            "\n"
          ]
        },
        {
          "output_type": "stream",
          "name": "stderr",
          "text": [
            "EPOCH: 28, loss=145.03448486328125 batch_id=12, Accuracy: 0.0: 100%|██████████| 13/13 [00:00<00:00, 197.62it/s]\n"
          ]
        },
        {
          "output_type": "stream",
          "name": "stdout",
          "text": [
            "target: tensor([40., 38., 10., 31., 22., 18., 34., 57.,  7., 45., 59., 58., 30., 44.,\n",
            "        22., 30., 36., 41.,  1., 29., 16., 17., 30., 24., 24., 35., 46., 29.,\n",
            "        50., 44., 31., 59.]), output: tensor([33., 33., 33., 33., 33., 24., 33., 33., 33., 33., 33., 33., 33., 33.,\n",
            "        33., 24., 24., 33., 17., 24., 24., 33., 33., 33., 33., 33., 33., 33.,\n",
            "        33., 33., 24., 33.])\n",
            "target: tensor([ 9., 43., 26., 27., 36., 28., 24., 32., 20., 33., 33., 43., 15., 40.,\n",
            "        35.,  8., 25., 26., 26., 45., 60., 31., 36., 41., 29., 34., 19., 32.,\n",
            "        42., 40.,  8., 46.]), output: tensor([33., 33., 33., 33., 33., 33., 33., 33., 33., 33., 24., 33., 24., 33.,\n",
            "        33., 24., 33., 33., 24., 33., 33., 24., 33., 24., 33., 33., 33., 24.,\n",
            "        33., 33., 24., 33.])\n",
            "target: tensor([32., 14., 18., 46., 32., 58., 40., 23., 32.,  9., 37., 16., 34., 14.,\n",
            "        24., 14., 23., 47., 18., 50., 32., 40., 17., 39., 25., 10., 18., 33.,\n",
            "        23., 42., 48., 37.]), output: tensor([33., 24., 24., 33., 33., 33., 24., 24., 33., 24., 33., 33., 33., 24.,\n",
            "        24., 33., 24., 33., 33., 33., 33., 24., 33., 33., 24., 33., 33., 24.,\n",
            "        33., 33., 33., 33.])\n",
            "target: tensor([26., 27., 36., 31., 47., 13., 28.]), output: tensor([33., 24., 24., 24., 33., 33., 33.])\n",
            "\n",
            "Test set: Average loss: 149.2085, Accuracy: 2/103 (2%)\n",
            "\n"
          ]
        },
        {
          "output_type": "stream",
          "name": "stderr",
          "text": [
            "EPOCH: 29, loss=144.35015869140625 batch_id=12, Accuracy: 4.0: 100%|██████████| 13/13 [00:00<00:00, 197.97it/s]\n"
          ]
        },
        {
          "output_type": "stream",
          "name": "stdout",
          "text": [
            "target: tensor([23., 34., 47., 18., 18., 40., 32., 24.,  9.,  7., 36., 34., 10., 26.,\n",
            "        32., 37., 20., 26., 46., 26., 30., 32., 25., 15., 39., 24.,  8., 36.,\n",
            "        35., 46., 10., 32.]), output: tensor([34., 26., 34., 34., 26., 34., 34., 34., 26., 34., 26., 34., 34., 33.,\n",
            "        34., 34., 34., 34., 34., 34., 34., 34., 26., 26., 26., 34., 26., 26.,\n",
            "        34., 34., 26., 34.])\n",
            "target: tensor([30., 23., 31., 33., 29., 58., 33., 40., 32., 50., 33., 29., 17.,  1.,\n",
            "        18., 36., 34., 59., 40., 37., 42., 16., 40., 43., 31., 23., 31., 19.,\n",
            "        14., 24., 40., 45.]), output: tensor([34., 26., 26., 26., 34., 34., 34., 26., 26., 26., 26., 34., 34., 18.,\n",
            "        26., 34., 26., 34., 34., 34., 34., 34., 26., 34., 34., 26., 26., 34.,\n",
            "        26., 26., 26., 34.])\n",
            "target: tensor([27., 32., 31., 35., 45., 47., 59., 13., 36., 57.,  8., 38., 58., 50.,\n",
            "        14., 24., 22., 18., 25., 41., 17., 48., 30., 28., 43., 42., 26., 29.,\n",
            "        60., 44., 44., 28.]), output: tensor([26., 34., 26., 34., 34., 34., 34., 34., 26., 34., 26., 34., 34., 34.,\n",
            "        34., 34., 34., 34., 34., 26., 34., 34., 26., 34., 34., 34., 26., 26.,\n",
            "        34., 34., 34., 34.])\n",
            "target: tensor([41., 22.,  9., 27., 14., 46., 16.]), output: tensor([34., 34., 34., 34., 26., 34., 26.])\n",
            "\n",
            "Test set: Average loss: 154.2402, Accuracy: 2/103 (2%)\n",
            "\n"
          ]
        },
        {
          "output_type": "stream",
          "name": "stderr",
          "text": [
            "EPOCH: 30, loss=84.3008041381836 batch_id=12, Accuracy: 0.0: 100%|██████████| 13/13 [00:00<00:00, 163.37it/s]\n"
          ]
        },
        {
          "output_type": "stream",
          "name": "stdout",
          "text": [
            "target: tensor([15., 32., 20., 23., 29., 57., 48., 16., 44., 24., 42., 10., 32., 13.,\n",
            "        29., 28., 29., 44., 37., 50., 17.,  8., 32., 26., 23., 16., 22., 27.,\n",
            "        41., 43.,  1., 36.]), output: tensor([27., 35., 35., 34., 35., 35., 35., 35., 35., 35., 35., 35., 35., 35.,\n",
            "        27., 35., 35., 35., 35., 27., 35., 27., 35., 35., 27., 27., 35., 27.,\n",
            "        27., 35., 16., 35.])\n",
            "target: tensor([ 9., 39., 28., 26., 26., 47., 40., 50., 35., 59., 38., 24., 36., 14.,\n",
            "        23., 18., 45., 33.,  7., 31., 31., 26., 37., 35., 17., 25., 34., 18.,\n",
            "        46., 30., 32., 40.]), output: tensor([27., 27., 35., 27., 27., 35., 27., 27., 35., 35., 27., 35., 27., 35.,\n",
            "        27., 27., 27., 27., 35., 27., 35., 35., 35., 35., 35., 35., 27., 35.,\n",
            "        35., 35., 27., 27.])\n",
            "target: tensor([30., 46., 46., 40., 40., 24., 10., 45., 41., 27., 14., 58., 31., 25.,\n",
            "        42.,  8., 60., 34., 32., 31., 14., 18., 34., 33., 32., 59., 43., 36.,\n",
            "        24., 40., 58.,  9.]), output: tensor([27., 35., 35., 35., 35., 35., 27., 31., 35., 35., 27., 35., 27., 27.,\n",
            "        35., 27., 35., 27., 35., 27., 27., 27., 27., 27., 35., 35., 27., 27.,\n",
            "        27., 27., 35., 34.])\n",
            "target: tensor([19., 47., 22., 30., 33., 18., 36.]), output: tensor([35., 27., 35., 35., 27., 27., 27.])\n",
            "\n",
            "Test set: Average loss: 162.8455, Accuracy: 3/103 (3%)\n",
            "\n"
          ]
        },
        {
          "output_type": "stream",
          "name": "stderr",
          "text": [
            "EPOCH: 31, loss=118.66486358642578 batch_id=12, Accuracy: 4.0: 100%|██████████| 13/13 [00:00<00:00, 189.03it/s]\n"
          ]
        },
        {
          "output_type": "stream",
          "name": "stdout",
          "text": [
            "target: tensor([30., 30., 36., 29., 33., 24., 43., 19., 24., 44., 27., 40., 18., 36.,\n",
            "        18., 18., 37., 24., 22., 33., 17., 29., 32., 25.,  1., 43., 22., 24.,\n",
            "        31., 16., 10., 32.]), output: tensor([34., 28., 28., 34., 34., 28., 34., 34., 34., 34., 34., 28., 28., 28.,\n",
            "        34., 34., 34., 34., 34., 28., 34., 34., 28., 28., 14., 34., 34., 34.,\n",
            "        34., 28., 28., 34.])\n",
            "target: tensor([17., 44., 25., 40., 14., 32., 40., 59., 46., 40., 45., 50., 34., 23.,\n",
            "        15., 36., 41., 41., 26., 35., 30., 20.,  8.,  7., 14., 50., 10., 42.,\n",
            "        35., 34., 38., 16.]), output: tensor([34., 34., 34., 28., 34., 34., 34., 34., 34., 33., 34., 34., 28., 28.,\n",
            "        28., 34., 34., 28., 34., 34., 34., 34., 28., 34., 28., 34., 34., 34.,\n",
            "        34., 34., 34., 34.])\n",
            "target: tensor([47., 45., 28., 58., 58., 31., 59., 23., 42., 32., 27., 31., 32., 26.,\n",
            "        14., 29., 26., 48., 39., 46.,  9.,  8., 34., 23., 37., 46., 18., 33.,\n",
            "        26., 47., 13.,  9.]), output: tensor([34., 34., 34., 34., 34., 28., 34., 34., 34., 34., 28., 28., 34., 34.,\n",
            "        28., 28., 34., 34., 34., 34., 34., 28., 28., 28., 34., 34., 28., 28.,\n",
            "        28., 34., 34., 28.])\n",
            "target: tensor([57., 40., 36., 31., 60., 28., 32.]), output: tensor([34., 34., 28., 28., 34., 34., 34.])\n",
            "\n",
            "Test set: Average loss: 148.3154, Accuracy: 1/103 (1%)\n",
            "\n"
          ]
        },
        {
          "output_type": "stream",
          "name": "stderr",
          "text": [
            "EPOCH: 32, loss=122.9720687866211 batch_id=12, Accuracy: 4.0: 100%|██████████| 13/13 [00:00<00:00, 180.64it/s]\n"
          ]
        },
        {
          "output_type": "stream",
          "name": "stdout",
          "text": [
            "target: tensor([23., 30., 24., 46., 34., 26., 32., 32., 18., 33., 13., 32., 10., 19.,\n",
            "        36., 23., 24., 16., 24.,  1., 28., 23.,  7., 40., 40., 57., 36., 32.,\n",
            "        32., 31., 45., 24.]), output: tensor([26., 32., 26., 32., 32., 32., 32., 32., 32., 26., 32., 26., 32., 32.,\n",
            "        32., 26., 32., 32., 32., 11., 32., 32., 32., 32., 32., 32., 26., 32.,\n",
            "        32., 26., 32., 32.])\n",
            "target: tensor([59., 33., 34., 27., 32., 43., 43., 30., 10., 42., 44., 26., 18., 15.,\n",
            "        18., 50., 45., 29., 28., 34., 17., 30., 40., 31., 41.,  8., 46., 17.,\n",
            "        16., 18., 29., 36.]), output: tensor([32., 32., 32., 26., 32., 32., 32., 26., 32., 32., 32., 32., 26., 26.,\n",
            "        26., 32., 32., 32., 32., 32., 32., 32., 26., 32., 26., 26., 32., 32.,\n",
            "        26., 32., 26., 32.])\n",
            "target: tensor([60., 48., 39., 42., 22., 14., 25., 31., 14., 47., 40., 33., 47.,  9.,\n",
            "        40., 29., 26., 59., 27., 37., 36.,  9., 37., 35., 31., 35., 25., 14.,\n",
            "        58., 41., 58., 22.]), output: tensor([32., 32., 32., 32., 32., 26., 26., 32., 32., 32., 26., 26., 32., 32.,\n",
            "        32., 32., 32., 32., 32., 32., 26., 26., 32., 32., 26., 32., 32., 26.,\n",
            "        32., 32., 32., 32.])\n",
            "target: tensor([46., 20.,  8., 38., 44., 50., 26.]), output: tensor([32., 32., 26., 32., 32., 32., 26.])\n",
            "\n",
            "Test set: Average loss: 147.8912, Accuracy: 6/103 (6%)\n",
            "\n"
          ]
        },
        {
          "output_type": "stream",
          "name": "stderr",
          "text": [
            "EPOCH: 33, loss=224.74765014648438 batch_id=12, Accuracy: 0.0: 100%|██████████| 13/13 [00:00<00:00, 196.27it/s]\n"
          ]
        },
        {
          "output_type": "stream",
          "name": "stdout",
          "text": [
            "target: tensor([30., 32., 31., 45., 58., 44., 18., 59., 46., 46., 23.,  8., 17., 16.,\n",
            "        32., 36., 25., 22., 24., 26., 34., 40., 44., 29., 24., 26., 60., 27.,\n",
            "        23., 33., 40., 43.]), output: tensor([33., 33., 26., 33., 33., 33., 26., 33., 33., 33., 26., 26., 33., 33.,\n",
            "        33., 26., 33., 33., 33., 33., 33., 33., 33., 33., 26., 33., 33., 33.,\n",
            "        26., 26., 33., 33.])\n",
            "target: tensor([35., 26., 31., 13., 50., 23., 28., 40., 46., 25., 18., 42., 19.,  8.,\n",
            "        29.,  7., 36., 43., 41., 36., 41., 31., 34., 37., 47., 26., 34., 28.,\n",
            "        32., 18., 30., 35.]), output: tensor([33., 33., 33., 33., 33., 33., 33., 33., 33., 26., 33., 33., 33., 26.,\n",
            "        33., 33., 33., 33., 33., 33., 26., 26., 33., 33., 33., 26., 33., 33.,\n",
            "        33., 26., 26., 33.])\n",
            "target: tensor([32., 22., 24., 39., 33., 59., 45., 17., 36., 20., 37., 29., 14., 47.,\n",
            "        40., 50., 15., 18., 16., 58., 57., 27., 24., 33., 42., 48.,  9., 10.,\n",
            "        10., 14., 30., 32.]), output: tensor([33., 33., 33., 33., 33., 33., 33., 33., 26., 33., 33., 26., 33., 33.,\n",
            "        26., 33., 26., 33., 26., 33., 33., 26., 33., 26., 33., 33., 26., 33.,\n",
            "        33., 26., 33., 33.])\n",
            "target: tensor([31., 14., 38.,  1.,  9., 40., 32.]), output: tensor([28., 26., 33.,  9., 31., 26., 26.])\n",
            "\n",
            "Test set: Average loss: 145.9618, Accuracy: 2/103 (2%)\n",
            "\n"
          ]
        },
        {
          "output_type": "stream",
          "name": "stderr",
          "text": [
            "EPOCH: 34, loss=124.61894226074219 batch_id=12, Accuracy: 0.0: 100%|██████████| 13/13 [00:00<00:00, 172.91it/s]\n"
          ]
        },
        {
          "output_type": "stream",
          "name": "stdout",
          "text": [
            "target: tensor([25., 59., 31., 32., 34., 14., 25., 58., 20., 50., 17., 32., 40., 27.,\n",
            "        50., 31., 31., 45., 24., 46., 42., 22., 40., 36., 34., 44., 17., 33.,\n",
            "        44., 18., 39., 26.]), output: tensor([33., 33., 25., 33., 33., 25., 25., 33., 33., 33., 33., 25., 25., 33.,\n",
            "        33., 33., 25., 33., 33., 33., 33., 33., 33., 25., 33., 33., 33., 33.,\n",
            "        33., 33., 33., 33.])\n",
            "target: tensor([46., 42., 36., 13., 46., 16., 26., 59., 23., 10.,  8., 16., 24.,  1.,\n",
            "        48., 29., 36., 30., 40., 43., 60.,  8., 32., 18., 32., 47., 43., 35.,\n",
            "        40., 34., 29., 18.]), output: tensor([33., 33., 33., 33., 33., 33., 25., 33., 25., 33., 25., 25., 33.,  7.,\n",
            "        33., 25., 33., 33., 25., 33., 33., 25., 33., 33., 33., 33., 33., 33.,\n",
            "        33., 33., 33., 25.])\n",
            "target: tensor([38.,  7., 23., 26., 32., 47., 33., 37., 14., 28., 14., 28., 24., 22.,\n",
            "        41., 27., 24., 57., 30., 10.,  9., 29.,  9., 35., 19., 31., 23., 33.,\n",
            "        30., 45., 32., 40.]), output: tensor([33., 33., 25., 33., 33., 33., 25., 33., 25., 33., 33., 33., 33., 33.,\n",
            "        33., 25., 25., 33., 33., 33., 25., 33., 23., 33., 33., 33., 33., 25.,\n",
            "        25., 33., 33., 33.])\n",
            "target: tensor([37., 26., 36., 18., 15., 58., 41.]), output: tensor([33., 33., 33., 25., 25., 33., 25.])\n",
            "\n",
            "Test set: Average loss: 142.4272, Accuracy: 2/103 (2%)\n",
            "\n"
          ]
        },
        {
          "output_type": "stream",
          "name": "stderr",
          "text": [
            "EPOCH: 35, loss=163.49285888671875 batch_id=12, Accuracy: 4.0: 100%|██████████| 13/13 [00:00<00:00, 190.33it/s]"
          ]
        },
        {
          "output_type": "stream",
          "name": "stdout",
          "text": [
            "target: tensor([40., 58., 23., 20., 32., 10., 38., 37., 31., 48., 27.,  8., 14., 58.,\n",
            "        40., 47., 46., 32., 41., 24., 37., 25., 50., 33., 46.,  1., 18., 32.,\n",
            "        29., 35., 15., 43.]), output: tensor([34., 34., 25., 34., 17., 34., 34., 34., 34., 34., 25., 25., 17., 34.,\n",
            "        34., 34., 34., 25., 34., 34., 34., 34., 34., 34., 34.,  7., 25., 34.,\n",
            "        34., 34., 25., 34.])\n",
            "target: tensor([35., 24., 26., 26., 40., 33., 41., 28., 23., 29., 18., 44., 24.,  8.,\n",
            "        60., 32., 59., 59., 40.,  9., 19., 47., 43., 17.,  7., 18., 57., 30.,\n",
            "        46., 42., 39., 50.]), output: tensor([34., 25., 17., 34., 34., 25., 34., 34., 34., 25., 17., 34., 17., 25.,\n",
            "        34., 17., 34., 34., 34., 17., 34., 34., 34., 34., 17., 25., 34., 17.,\n",
            "        34., 34., 34., 34.])\n",
            "target: tensor([18., 28., 34., 33., 16., 24., 40., 23., 45., 34., 31., 36., 22., 44.,\n",
            "        10., 22., 34., 45., 13., 31., 26., 16., 36., 14., 27.,  9., 25., 32.,\n",
            "        31., 42., 26., 17.]), output: tensor([34., 17., 34., 25., 25., 34., 34., 25., 34., 34., 25., 34., 34., 34.,\n",
            "        34., 34., 34., 34., 34., 25., 17., 34., 34., 34., 34., 25., 25., 34.,\n",
            "        34., 34., 25., 17.])\n"
          ]
        },
        {
          "output_type": "stream",
          "name": "stderr",
          "text": [
            "\n"
          ]
        },
        {
          "output_type": "stream",
          "name": "stdout",
          "text": [
            "target: tensor([36., 30., 29., 30., 14., 32., 36.]), output: tensor([34., 27., 34., 34., 25., 34., 34.])\n",
            "\n",
            "Test set: Average loss: 127.2291, Accuracy: 5/103 (5%)\n",
            "\n"
          ]
        },
        {
          "output_type": "stream",
          "name": "stderr",
          "text": [
            "EPOCH: 36, loss=160.64212036132812 batch_id=12, Accuracy: 4.0: 100%|██████████| 13/13 [00:00<00:00, 201.71it/s]\n"
          ]
        },
        {
          "output_type": "stream",
          "name": "stdout",
          "text": [
            "target: tensor([31., 50., 35., 32.,  9., 46., 36.,  7., 60., 40., 36., 34., 26., 44.,\n",
            "        24., 17., 18., 32., 41., 16., 17., 31., 38., 42., 24., 13., 43., 41.,\n",
            "        37., 18., 46., 34.]), output: tensor([36., 36., 21., 21., 27., 36., 21., 20., 36., 36., 36., 36., 21., 36.,\n",
            "        20., 21., 27., 27., 36., 21., 21., 36., 36., 36., 27., 21., 36., 36.,\n",
            "        36., 36., 30., 36.])\n",
            "target: tensor([27., 29., 32., 26., 58., 59., 33., 50., 58., 47., 45., 20., 45., 33.,\n",
            "        29., 23., 24., 18., 23., 32., 44., 25., 29., 30., 10., 36., 23., 10.,\n",
            "         8., 39.,  8., 22.]), output: tensor([27., 36., 36., 27., 36., 36., 36., 36., 36., 36., 36., 36., 36., 27.,\n",
            "        27., 36., 35., 27., 27., 21., 36., 27., 21., 36., 21., 36., 27., 36.,\n",
            "        27., 36., 28., 21.])\n",
            "target: tensor([18., 19., 34., 24., 40., 57., 31., 43., 30., 14., 26., 40., 47., 46.,\n",
            "        15., 40., 14., 42., 16.,  9., 30., 32., 40., 26., 28., 27., 22., 33.,\n",
            "        59., 28., 37., 31.]), output: tensor([21., 36., 36., 36., 36., 36., 27., 36., 36., 20.,  7., 27., 36., 21.,\n",
            "        27., 36., 36., 36., 27.,  7., 19., 21., 36., 36., 21., 21., 21., 27.,\n",
            "        36.,  7., 36., 27.])\n",
            "target: tensor([48., 25., 35., 36., 14.,  1., 32.]), output: tensor([36., 36., 21., 36., 27.,  7., 19.])\n",
            "\n",
            "Test set: Average loss: 126.9622, Accuracy: 4/103 (4%)\n",
            "\n"
          ]
        },
        {
          "output_type": "stream",
          "name": "stderr",
          "text": [
            "EPOCH: 37, loss=128.97793579101562 batch_id=12, Accuracy: 0.0: 100%|██████████| 13/13 [00:00<00:00, 187.30it/s]\n"
          ]
        },
        {
          "output_type": "stream",
          "name": "stdout",
          "text": [
            "target: tensor([36., 23., 34., 14., 31., 25., 32., 32., 24., 40., 26., 45.,  8., 40.,\n",
            "        31., 17., 28., 27., 24., 10., 29., 18., 30., 34., 18., 44., 43., 47.,\n",
            "        13., 33., 19., 29.]), output: tensor([36., 25., 36., 22., 25., 36., 25., 36., 25., 36., 22., 36., 26., 36.,\n",
            "        25., 22., 22., 25., 36., 36., 25., 36., 36., 36., 22., 36., 36., 36.,\n",
            "        36., 25., 36., 36.])\n",
            "target: tensor([38., 35.,  9., 50., 24., 23., 30., 42., 26., 37., 42., 35.,  8., 57.,\n",
            "        40., 40., 30.,  7., 41., 16., 16., 58., 33., 17., 18., 50., 20., 34.,\n",
            "        40., 33.,  9., 26.]), output: tensor([36., 22., 22., 36., 22., 25., 36., 36., 25., 36., 36., 36., 25., 36.,\n",
            "        36., 36., 22., 22., 36., 36., 25., 36., 25., 36., 25., 36., 36., 36.,\n",
            "        36., 36., 25., 22.])\n",
            "target: tensor([45., 37., 24., 32., 22., 10., 41., 32., 31., 26., 58., 47., 32., 31.,\n",
            "        18., 44., 32., 59., 46.,  1., 36., 46., 14., 48., 22., 25., 14., 28.,\n",
            "        59., 43., 46., 36.]), output: tensor([36., 36., 36., 36., 22., 27., 36., 36., 36., 36., 36., 36., 22., 36.,\n",
            "        25., 36., 22., 36., 36., 21., 36., 36., 36., 36., 36., 25., 25., 22.,\n",
            "        36., 36., 36., 36.])\n",
            "target: tensor([36., 60., 29., 23., 27., 15., 39.]), output: tensor([36., 36., 22., 36., 36., 25., 36.])\n",
            "\n",
            "Test set: Average loss: 122.0754, Accuracy: 6/103 (6%)\n",
            "\n"
          ]
        },
        {
          "output_type": "stream",
          "name": "stderr",
          "text": [
            "EPOCH: 38, loss=164.89906311035156 batch_id=12, Accuracy: 0.0: 100%|██████████| 13/13 [00:00<00:00, 196.19it/s]\n"
          ]
        },
        {
          "output_type": "stream",
          "name": "stdout",
          "text": [
            "target: tensor([10., 18., 26., 17., 18.,  7., 35.,  1., 24., 42., 43., 10., 47., 46.,\n",
            "        29., 17., 31., 33., 20., 39., 43.,  8., 22., 31., 29., 24., 50., 24.,\n",
            "        50., 33., 40., 41.]), output: tensor([34., 22., 22., 34., 34., 20., 34., 20., 20., 34., 34., 34., 34., 34.,\n",
            "        22., 20., 34., 22., 34., 34., 34., 22., 34., 34., 34., 22., 34., 34.,\n",
            "        34., 22., 22., 22.])\n",
            "target: tensor([27., 36., 30., 32., 14., 34., 24., 18., 40., 23., 40., 37., 32., 36.,\n",
            "        14., 31., 57., 25., 45., 42., 34., 25., 32., 15., 37., 29., 48., 22.,\n",
            "        46., 40., 23., 30.]), output: tensor([34., 34., 34., 34., 20., 34., 34., 22., 22., 22., 34., 34., 20., 34.,\n",
            "        22., 22., 34., 22., 34., 34., 34., 34., 22., 22., 34., 34., 34., 34.,\n",
            "        34., 34., 22., 20.])\n",
            "target: tensor([59., 19., 45., 47., 58., 26., 18., 36., 32., 34., 59., 38., 36., 40.,\n",
            "        28.,  8., 31., 60., 13., 16.,  9., 33., 28., 16., 26.,  9., 26., 32.,\n",
            "        41., 35., 58., 46.]), output: tensor([34., 34., 34., 34., 34., 20., 20., 22., 34., 34., 34., 34., 34., 34.,\n",
            "        20., 22., 22., 34., 34., 34., 22., 34., 34., 22., 20., 20., 34., 34.,\n",
            "        34., 34., 34., 34.])\n",
            "target: tensor([44., 44., 14., 27., 32., 23., 30.]), output: tensor([34., 34., 22., 22., 20., 34., 22.])\n",
            "\n",
            "Test set: Average loss: 134.0484, Accuracy: 3/103 (3%)\n",
            "\n"
          ]
        },
        {
          "output_type": "stream",
          "name": "stderr",
          "text": [
            "EPOCH: 39, loss=136.1774139404297 batch_id=12, Accuracy: 4.0: 100%|██████████| 13/13 [00:00<00:00, 187.36it/s]\n"
          ]
        },
        {
          "output_type": "stream",
          "name": "stdout",
          "text": [
            "target: tensor([10., 34., 27., 32., 44., 29., 10., 25., 47., 29., 30., 18.,  9., 58.,\n",
            "        57., 28., 59., 40., 18., 24., 60., 42., 19., 35., 22., 37., 20., 40.,\n",
            "        31., 23., 26., 17.]), output: tensor([37., 34., 26., 37., 37., 37., 26., 26., 37., 37., 23., 26., 26., 37.,\n",
            "        37., 23., 37., 26., 26., 23., 37., 37., 37., 37., 37., 37., 37., 37.,\n",
            "        37., 26., 26., 37.])\n",
            "target: tensor([41., 36., 45., 59., 18., 45., 40.,  7.,  8., 28., 13., 33., 25., 24.,\n",
            "         9., 31., 14., 23.,  1., 18., 23., 32., 31., 46., 42., 37., 24., 29.,\n",
            "        30., 34., 30., 32.]), output: tensor([26., 37., 37., 37., 26., 37., 37., 23., 26., 37., 37., 37., 37., 37.,\n",
            "        23., 26., 26., 26., 23., 37., 37., 23., 26., 37., 37., 37., 37., 26.,\n",
            "        37., 37., 26., 37.])\n",
            "target: tensor([26., 44., 35., 48., 50., 40., 15., 41., 33., 46., 32., 47., 27., 26.,\n",
            "        58., 40., 14., 34.,  8., 36., 32., 22., 50., 43., 24., 33., 16., 39.,\n",
            "        36., 17., 31., 26.]), output: tensor([37., 37., 37., 37., 37., 26., 26., 37., 26., 37., 37., 37., 37., 24.,\n",
            "        37., 37., 26., 34., 26., 26., 26., 37., 37., 37., 26., 26., 37., 37.,\n",
            "        37., 26., 26., 23.])\n",
            "target: tensor([32., 38., 14., 43., 16., 36., 46.]), output: tensor([24., 37., 23., 37., 26., 26., 37.])\n",
            "\n",
            "Test set: Average loss: 129.0633, Accuracy: 5/103 (5%)\n",
            "\n"
          ]
        },
        {
          "output_type": "stream",
          "name": "stderr",
          "text": [
            "EPOCH: 40, loss=197.98822021484375 batch_id=12, Accuracy: 8.0: 100%|██████████| 13/13 [00:00<00:00, 191.92it/s]\n"
          ]
        },
        {
          "output_type": "stream",
          "name": "stdout",
          "text": [
            "target: tensor([37., 44., 14., 38., 33.,  8., 25., 33., 46., 14., 34., 34., 58., 36.,\n",
            "        24., 41., 10., 32., 29., 18., 30., 24., 26., 29., 32.,  9., 22., 48.,\n",
            "        40.,  8., 25., 36.]), output: tensor([36., 36., 30., 27., 27., 27., 36., 27., 36., 27., 27., 27., 36., 27.,\n",
            "        27., 36., 27., 36., 36., 27., 36., 36., 24., 36., 27., 27., 36., 36.,\n",
            "        27., 27., 27., 36.])\n",
            "target: tensor([18., 40., 59., 30., 24., 59., 42., 41., 46., 32., 44., 14., 36., 16.,\n",
            "        26., 19., 47., 35., 26., 43., 20., 17., 28., 40., 23., 15.,  7., 40.,\n",
            "        57., 43., 10., 30.]), output: tensor([36., 27., 36., 27., 36., 36., 36., 27., 36., 36., 36., 27., 27., 27.,\n",
            "        27., 36., 27., 36., 27., 36., 36., 36., 29., 36., 36., 27., 22., 27.,\n",
            "        36., 27., 36., 36.])\n",
            "target: tensor([27., 31., 39., 31., 18., 32., 31., 37.,  9., 24., 45., 50., 23.,  1.,\n",
            "        42., 29., 46., 47., 13., 34., 16., 27., 36., 33., 50., 22., 23., 17.,\n",
            "        35., 58., 28., 45.]), output: tensor([27., 36., 27., 27., 27., 36., 27., 36., 22., 36., 36., 27., 27., 22.,\n",
            "        36., 27., 36., 36., 36., 27., 36., 36., 27., 27., 27., 36., 27., 36.,\n",
            "        36., 36., 36., 27.])\n",
            "target: tensor([60., 40., 32., 26., 32., 18., 31.]), output: tensor([36., 36., 36., 36., 36., 27., 27.])\n",
            "\n",
            "Test set: Average loss: 153.8075, Accuracy: 2/103 (2%)\n",
            "\n"
          ]
        },
        {
          "output_type": "stream",
          "name": "stderr",
          "text": [
            "EPOCH: 41, loss=117.90518188476562 batch_id=12, Accuracy: 0.0: 100%|██████████| 13/13 [00:00<00:00, 173.05it/s]"
          ]
        },
        {
          "output_type": "stream",
          "name": "stdout",
          "text": [
            "target: tensor([45., 25., 36., 37., 57., 42., 28., 40., 59., 24., 18., 41., 40., 31.,\n",
            "        32., 39., 40., 58., 43., 48., 36., 45., 43.,  8., 17., 18., 50., 42.,\n",
            "        24., 33., 46., 29.]), output: tensor([35., 27., 27., 35., 35., 35., 20., 35., 35., 27., 20., 27., 35., 27.,\n",
            "        35., 35., 35., 35., 35., 35., 35., 35., 35., 27., 20., 35., 35., 35.,\n",
            "        20., 27., 35., 20.])\n",
            "target: tensor([50.,  1., 24., 34., 23., 23., 29., 13., 47., 22., 30., 35., 26., 32.,\n",
            "        17., 44., 34., 32., 32.,  9., 24.,  9., 41., 26., 47., 29., 59., 14.,\n",
            "        16., 33., 30., 22.]), output: tensor([35., 20., 35., 35., 27., 27., 35., 22., 35., 35., 27., 35., 20., 20.,\n",
            "        31., 35., 35., 35., 20., 27., 35., 20., 35., 27., 35., 27., 35., 27.,\n",
            "        35., 35., 35., 20.])\n",
            "target: tensor([40., 18., 31., 16., 33., 26., 10., 40., 28., 35., 60., 30., 15., 36.,\n",
            "        46., 10., 27., 34., 23., 44., 36., 19., 46., 38.,  7., 14., 26., 31.,\n",
            "        14., 37., 20., 58.]), output: tensor([35., 27., 35., 27., 27., 35., 20., 35., 20., 20., 35., 20., 27., 35.,\n",
            "        35., 35., 35., 35., 35., 35., 35., 35., 35., 35., 20., 20., 20., 27.,\n",
            "        27., 35., 35., 35.])\n",
            "target: tensor([27.,  8., 18., 32., 32., 31., 25.]), output: tensor([27., 27., 27., 27., 35., 35., 35.])\n",
            "\n",
            "Test set: Average loss: 118.8103, Accuracy: 2/103 (2%)\n"
          ]
        },
        {
          "output_type": "stream",
          "name": "stderr",
          "text": [
            "\n"
          ]
        },
        {
          "output_type": "stream",
          "name": "stdout",
          "text": [
            "\n"
          ]
        },
        {
          "output_type": "stream",
          "name": "stderr",
          "text": [
            "EPOCH: 42, loss=175.4716033935547 batch_id=12, Accuracy: 4.0: 100%|██████████| 13/13 [00:00<00:00, 184.41it/s]"
          ]
        },
        {
          "output_type": "stream",
          "name": "stdout",
          "text": [
            "target: tensor([46., 59.,  1., 22., 24., 28., 18., 32., 34., 27., 50., 33., 16., 33.,\n",
            "        14., 10., 24., 27., 13., 18., 20., 40., 30., 58., 57., 40., 50., 25.,\n",
            "        42., 26., 42., 17.]), output: tensor([34., 34., 18., 34., 34., 18., 34., 18., 34., 34., 34., 34., 25., 25.,\n",
            "        18., 34., 34., 25., 34., 25., 34., 34., 34., 34., 34., 34., 34., 34.,\n",
            "        34., 18., 34., 18.])\n",
            "target: tensor([46., 30.,  7., 29., 22., 32., 15., 29., 32., 29., 14., 44., 32., 23.,\n",
            "        31., 43., 40., 34., 36., 35., 35.,  9., 41., 58., 37., 18., 36., 31.,\n",
            "        39., 36., 37., 19.]), output: tensor([34., 18., 18., 34., 34., 34., 25., 25., 34., 34., 25., 34., 18., 25.,\n",
            "        25., 34., 34., 34., 34., 34., 34., 18., 34., 34., 34., 18., 34., 34.,\n",
            "        34., 34., 34., 34.])\n",
            "target: tensor([46., 31., 31., 44.,  8., 16., 45., 45., 24., 33., 47., 14., 48., 38.,\n",
            "        25., 18., 43., 26., 59., 32., 26., 60., 34., 36., 40., 24., 28., 32.,\n",
            "         9., 23., 23., 26.]), output: tensor([34., 34., 25., 34., 26., 34., 34., 34., 25., 25., 34., 34., 34., 34.,\n",
            "        25., 25., 34., 34., 34., 25., 18., 34., 34., 34., 34., 18., 34., 34.,\n",
            "        25., 25., 34., 25.])\n"
          ]
        },
        {
          "output_type": "stream",
          "name": "stderr",
          "text": [
            "\n"
          ]
        },
        {
          "output_type": "stream",
          "name": "stdout",
          "text": [
            "target: tensor([10., 41.,  8., 40., 17., 30., 47.]), output: tensor([32., 34., 25., 34., 34., 34., 34.])\n",
            "\n",
            "Test set: Average loss: 129.1026, Accuracy: 5/103 (5%)\n",
            "\n"
          ]
        },
        {
          "output_type": "stream",
          "name": "stderr",
          "text": [
            "EPOCH: 43, loss=202.61935424804688 batch_id=12, Accuracy: 0.0: 100%|██████████| 13/13 [00:00<00:00, 184.66it/s]\n"
          ]
        },
        {
          "output_type": "stream",
          "name": "stdout",
          "text": [
            "target: tensor([46., 58., 22., 23., 32., 14., 24., 45., 38., 48., 43., 59., 34., 18.,\n",
            "        60., 44., 40., 40., 20., 41., 34., 26., 31., 26., 46., 59., 26., 14.,\n",
            "        31., 46., 14., 35.]), output: tensor([36., 36., 21., 26., 21., 26., 29., 36., 36., 36., 36., 36., 36., 26.,\n",
            "        36., 36., 36., 35., 35., 36., 36., 26., 36., 21., 21., 36., 21., 36.,\n",
            "        26., 36., 21., 21.])\n",
            "target: tensor([50., 32.,  1., 31., 40., 33., 42., 45., 43., 40., 29., 22., 28., 16.,\n",
            "        58., 37., 29., 18., 25., 42., 47., 31.,  7., 25., 23., 32., 30., 33.,\n",
            "        36., 19.,  9., 39.]), output: tensor([36., 21., 21., 26., 36., 36., 36., 36., 36., 36., 21., 21., 21., 21.,\n",
            "        36., 36., 26., 21., 36., 36., 36., 36., 21., 26., 36., 36., 36., 26.,\n",
            "        36., 36., 21., 36.])\n",
            "target: tensor([ 8., 18., 35., 27., 15., 36., 44., 41., 40., 34., 32., 37., 32., 17.,\n",
            "        30., 30., 26., 32., 23., 36., 10., 17., 50., 24., 24., 57., 13., 47.,\n",
            "        36., 18., 33., 24.]), output: tensor([26., 36., 21., 26., 26., 36., 36., 36., 36., 36., 21., 36., 21., 21.,\n",
            "        36., 21., 36., 26., 26., 36., 36., 21., 36., 26., 21., 36., 21., 36.,\n",
            "        21., 26., 26., 36.])\n",
            "target: tensor([27., 29.,  8., 28., 10.,  9., 16.]), output: tensor([21., 36., 29., 21., 21., 26., 26.])\n",
            "\n",
            "Test set: Average loss: 119.9736, Accuracy: 4/103 (4%)\n",
            "\n"
          ]
        },
        {
          "output_type": "stream",
          "name": "stderr",
          "text": [
            "EPOCH: 44, loss=127.98197174072266 batch_id=12, Accuracy: 0.0: 100%|██████████| 13/13 [00:00<00:00, 193.25it/s]\n"
          ]
        },
        {
          "output_type": "stream",
          "name": "stdout",
          "text": [
            "target: tensor([46., 32., 32., 46., 19., 32., 36., 26., 30., 40., 29., 26., 59., 58.,\n",
            "        29., 46., 26., 48., 24., 43., 16., 18., 34., 17., 14., 50., 32., 47.,\n",
            "        25., 25., 23., 36.]), output: tensor([38., 38., 24., 38., 38., 27., 32., 24., 24., 38., 24., 27., 38., 38.,\n",
            "        38., 38., 24., 38., 24., 38., 27., 27., 38., 24., 27., 38., 38., 38.,\n",
            "        38., 27., 27., 38.])\n",
            "target: tensor([24., 20., 18., 18., 22., 30., 31., 33., 47., 35., 33., 14., 13., 14.,\n",
            "        22., 23., 40., 44., 42., 17., 29., 36., 28., 16., 39., 40., 34., 23.,\n",
            "        37., 37., 31., 24.]), output: tensor([27., 38., 24., 38., 38., 27., 27., 27., 38., 38., 38., 27., 24., 24.,\n",
            "        24., 38., 38., 38., 38., 24., 27., 38., 24., 25., 38., 38., 38., 27.,\n",
            "        38., 38., 38., 38.])\n",
            "target: tensor([36., 50., 40., 34., 42., 43., 60., 32., 45., 57., 35., 38., 24., 30.,\n",
            "         7., 28., 41., 44., 31., 27.,  1., 40., 41., 10., 31., 27., 45., 32.,\n",
            "        33., 18., 15.,  8.]), output: tensor([38., 38., 38., 38., 38., 38., 38., 37., 38., 38., 24., 38., 38., 38.,\n",
            "        24., 24., 27., 38., 38., 38., 24., 38., 38., 24., 27., 27., 38., 24.,\n",
            "        27., 27., 27., 27.])\n",
            "target: tensor([10.,  8., 26., 59.,  9.,  9., 58.]), output: tensor([38., 27., 38., 38., 27., 24., 38.])\n",
            "\n",
            "Test set: Average loss: 110.7851, Accuracy: 3/103 (3%)\n",
            "\n"
          ]
        },
        {
          "output_type": "stream",
          "name": "stderr",
          "text": [
            "EPOCH: 45, loss=142.27734375 batch_id=12, Accuracy: 4.0: 100%|██████████| 13/13 [00:00<00:00, 193.76it/s]\n"
          ]
        },
        {
          "output_type": "stream",
          "name": "stdout",
          "text": [
            "target: tensor([34., 40., 40., 23.,  8., 18., 36., 24., 18., 28., 50., 18., 28., 31.,\n",
            "        16., 44., 26., 42., 32., 37., 33., 46., 26., 31., 32., 41., 40., 23.,\n",
            "        31., 46., 43., 23.]), output: tensor([33., 33., 33., 33., 21., 19., 33., 33., 33., 33., 33., 21., 19., 33.,\n",
            "        33., 33., 19., 33., 33., 33., 21., 33., 19., 21., 19., 33., 33., 21.,\n",
            "        33., 33., 33., 21.])\n",
            "target: tensor([32., 30., 44., 50., 17., 45., 43., 29., 10., 58., 25., 36., 32.,  7.,\n",
            "        24., 36., 34., 39., 60., 24., 37., 16., 30., 32., 27., 32., 35., 14.,\n",
            "        29., 40., 14., 58.]), output: tensor([19., 19., 33., 33., 19., 33., 33., 33., 33., 33., 33., 33., 33., 19.,\n",
            "        33., 33., 33., 33., 33., 33., 33., 21., 33., 21., 21., 33., 33., 21.,\n",
            "        33., 33., 19., 33.])\n",
            "target: tensor([ 9., 20., 42., 48., 27., 22.,  9., 14., 35.,  1., 38., 33., 47., 26.,\n",
            "        29., 40., 13.,  8., 25., 17., 59., 41., 31., 18., 34., 57., 26., 24.,\n",
            "        47., 19., 15., 30.]), output: tensor([19., 33., 33., 33., 33., 33., 21., 33., 24., 19., 33., 33., 33., 33.,\n",
            "        33., 33., 33., 33., 21., 33., 33., 33., 33., 21., 33., 33., 21., 19.,\n",
            "        33., 33., 33., 33.])\n",
            "target: tensor([33., 59., 36., 46., 22., 10., 45.]), output: tensor([33., 33., 33., 33., 33., 22., 33.])\n",
            "\n",
            "Test set: Average loss: 132.5394, Accuracy: 2/103 (2%)\n",
            "\n"
          ]
        },
        {
          "output_type": "stream",
          "name": "stderr",
          "text": [
            "EPOCH: 46, loss=140.0743408203125 batch_id=12, Accuracy: 0.0: 100%|██████████| 13/13 [00:00<00:00, 187.49it/s]"
          ]
        },
        {
          "output_type": "stream",
          "name": "stdout",
          "text": [
            "target: tensor([18., 23., 31., 23., 24., 17., 26., 24., 42., 32., 50., 34., 35., 14.,\n",
            "        33., 10., 47., 13., 29., 26., 32., 34., 19., 32., 47., 28., 22., 30.,\n",
            "        40., 48., 16., 59.]), output: tensor([22., 34., 34., 22., 34., 34., 25., 20., 34., 22., 34., 34., 34., 34.,\n",
            "        34., 34., 34., 34., 34., 20., 27., 34., 34., 34., 34., 20., 34., 34.,\n",
            "        34., 34., 22., 34.])\n"
          ]
        },
        {
          "output_type": "stream",
          "name": "stderr",
          "text": [
            "\n"
          ]
        },
        {
          "output_type": "stream",
          "name": "stdout",
          "text": [
            "target: tensor([ 8., 31., 44., 60., 24., 20., 39., 40., 25., 17., 14., 32., 45., 27.,\n",
            "         9., 41., 30., 34., 23., 46., 40., 22., 26., 46., 40., 10., 26., 14.,\n",
            "         9., 15., 33., 32.]), output: tensor([22., 34., 34., 34., 34., 34., 34., 34., 34., 23., 22., 34., 34., 34.,\n",
            "        20., 34., 34., 34., 22., 34., 34., 34., 34., 34., 34., 34., 22., 20.,\n",
            "        22., 34., 34., 20.])\n",
            "target: tensor([43., 58., 33., 31., 58., 42., 31., 40., 18.,  8., 50., 36., 59., 36.,\n",
            "        16., 45., 30., 37., 24., 36., 25.,  1., 29., 29., 36., 57., 32., 38.,\n",
            "        18., 46., 43.,  7.]), output: tensor([34., 34., 22., 22., 34., 34., 34., 34., 22., 34., 34., 34., 34., 34.,\n",
            "        34., 34., 20., 34., 34., 34., 22., 20., 34., 34., 34., 34., 34., 34.,\n",
            "        24., 34., 34., 20.])\n",
            "target: tensor([44., 18., 27., 28., 37., 35., 41.]), output: tensor([34., 34., 22., 34., 34., 34., 34.])\n",
            "\n",
            "Test set: Average loss: 131.6379, Accuracy: 3/103 (3%)\n",
            "\n"
          ]
        },
        {
          "output_type": "stream",
          "name": "stderr",
          "text": [
            "EPOCH: 47, loss=122.92581939697266 batch_id=12, Accuracy: 4.0: 100%|██████████| 13/13 [00:00<00:00, 170.26it/s]"
          ]
        },
        {
          "output_type": "stream",
          "name": "stdout",
          "text": [
            "target: tensor([35., 14., 27., 40., 32., 20., 18., 23., 45., 50., 10., 34., 48., 33.,\n",
            "        26., 36., 14., 37., 26., 30., 26., 34., 41., 24., 46., 40.,  8., 39.,\n",
            "        15., 36., 26., 16.]), output: tensor([34., 19., 34., 34., 34., 34., 19., 34., 34., 34., 20., 34., 34., 22.,\n",
            "        19., 34., 33., 34., 22., 22., 19., 34., 34., 19., 34., 34., 22., 34.,\n",
            "        22., 34., 34., 22.])\n",
            "target: tensor([24., 32., 24., 13., 59., 40., 35., 44., 16., 33., 32., 18., 40., 29.,\n",
            "        40., 43., 58., 43.,  8., 25., 23., 19., 10., 31., 47., 41., 32., 47.,\n",
            "        30., 59., 23., 57.]), output: tensor([34., 34., 22., 34., 34., 34., 20., 34., 34., 22., 19., 22., 34., 34.,\n",
            "        34., 34., 34., 34., 22., 34., 22., 34., 34., 22., 34., 34., 22., 34.,\n",
            "        34., 34., 22., 34.])\n"
          ]
        },
        {
          "output_type": "stream",
          "name": "stderr",
          "text": [
            "\n"
          ]
        },
        {
          "output_type": "stream",
          "name": "stdout",
          "text": [
            "target: tensor([45., 44., 46., 22., 58., 31., 17., 46., 32., 27.,  9., 31., 28., 32.,\n",
            "        28., 18.,  1., 14., 24., 36.,  9., 42., 38., 33., 17., 42., 31., 60.,\n",
            "        37., 18., 34.,  7.]), output: tensor([34., 34., 34., 32., 34., 34., 34., 34., 19., 22., 19., 34., 34., 34.,\n",
            "        19., 22., 19., 22., 34., 34., 22., 34., 34., 34., 19., 34., 22., 34.,\n",
            "        34., 34., 34., 19.])\n",
            "target: tensor([29., 29., 22., 50., 36., 25., 30.]), output: tensor([22., 34., 34., 34., 34., 22., 19.])\n",
            "\n",
            "Test set: Average loss: 123.0262, Accuracy: 3/103 (3%)\n",
            "\n"
          ]
        },
        {
          "output_type": "stream",
          "name": "stderr",
          "text": [
            "EPOCH: 48, loss=110.47671508789062 batch_id=12, Accuracy: 4.0: 100%|██████████| 13/13 [00:00<00:00, 160.21it/s]\n"
          ]
        },
        {
          "output_type": "stream",
          "name": "stdout",
          "text": [
            "target: tensor([44., 26., 29., 23., 17., 23., 31., 37., 14., 50., 47., 40., 31., 16.,\n",
            "        20., 32., 36., 41., 26., 27., 37., 18., 26., 32., 18., 41., 35., 46.,\n",
            "        28., 10., 33., 32.]), output: tensor([37., 37., 37., 37., 25., 25., 25., 37., 21., 37., 37., 25., 37., 25.,\n",
            "        37., 21., 25., 37., 21., 37., 37., 37., 25., 37., 25., 25., 37., 37.,\n",
            "        21., 21., 25., 21.])\n",
            "target: tensor([27., 32., 59., 22.,  8., 36., 44., 31., 38., 19., 16., 50., 22., 40.,\n",
            "        60., 15., 14., 29.,  9.,  9., 36.,  8.,  7., 40., 26., 39., 45., 42.,\n",
            "        36., 23., 24., 30.]), output: tensor([25., 37., 37., 21., 25., 27., 37., 25., 37., 37., 32., 37., 37., 37.,\n",
            "        37., 25., 25., 21., 21., 25., 37., 25., 21., 25., 21., 37., 37., 37.,\n",
            "        25., 25., 25., 21.])\n",
            "target: tensor([46., 18., 14., 45., 25., 42., 10., 34., 17., 35., 47., 46., 40., 32.,\n",
            "        13., 59., 30., 33., 24., 40., 18., 25., 34., 34., 28., 29., 43., 57.,\n",
            "        33., 58., 32., 24.]), output: tensor([37., 21., 25., 37., 25., 37., 25., 25., 21., 21., 37., 37., 37., 25.,\n",
            "        22., 37., 37., 25., 37., 37., 25., 37., 25., 37., 21., 25., 37., 37.,\n",
            "        37., 37., 37., 21.])\n",
            "target: tensor([24., 43.,  1., 31., 58., 30., 48.]), output: tensor([37., 37., 21., 25., 37., 25., 37.])\n",
            "\n",
            "Test set: Average loss: 113.5065, Accuracy: 3/103 (3%)\n",
            "\n"
          ]
        },
        {
          "output_type": "stream",
          "name": "stderr",
          "text": [
            "EPOCH: 49, loss=214.3831024169922 batch_id=12, Accuracy: 4.0: 100%|██████████| 13/13 [00:00<00:00, 127.03it/s]\n"
          ]
        },
        {
          "output_type": "stream",
          "name": "stdout",
          "text": [
            "target: tensor([46., 40., 31., 22., 24., 28., 44., 36., 59., 23.,  8., 45., 41., 22.,\n",
            "        30., 40., 37., 60., 41., 35., 24., 42.,  8., 59., 58., 18., 14., 47.,\n",
            "        25.,  9., 27., 23.]), output: tensor([27., 27., 31., 27., 27., 27., 27., 31., 40., 31., 31., 42., 27., 27.,\n",
            "        27., 31., 27., 27., 31., 27., 27., 39., 25., 42., 42., 16., 31., 31.,\n",
            "        27., 27., 31., 31.])\n",
            "target: tensor([43., 50., 46., 26., 58., 32., 23., 13., 17., 15., 36., 29., 44., 39.,\n",
            "        26., 10., 24., 35., 18., 34.,  1., 32., 29., 36.,  9., 47., 26., 34.,\n",
            "        30., 32., 28., 31.]), output: tensor([31., 31., 27., 27., 27., 27., 27., 27., 27., 31., 31., 27., 27., 31.,\n",
            "        31., 27., 27., 27., 31., 31., 27., 31., 27., 27., 31., 27., 27., 31.,\n",
            "        31., 27., 27., 31.])\n",
            "target: tensor([33., 37., 25., 31., 33., 29., 31., 17., 33., 34., 18., 16., 57., 40.,\n",
            "        19., 14., 40., 26., 27., 32., 36., 20., 32., 46., 38.,  7., 43., 48.,\n",
            "        45., 10., 14., 50.]), output: tensor([31., 27., 31., 31., 31., 31., 27., 27., 31., 31., 27., 27., 27., 31.,\n",
            "        27., 31., 27., 31., 27., 27., 31., 27., 27., 27., 31., 27., 27., 27.,\n",
            "        31., 16., 27., 31.])\n",
            "target: tensor([42., 30., 40., 24., 16., 32., 18.]), output: tensor([27., 27., 31., 31., 31., 27., 31.])\n",
            "\n",
            "Test set: Average loss: 152.8567, Accuracy: 4/103 (4%)\n",
            "\n"
          ]
        }
      ]
    }
  ]
}