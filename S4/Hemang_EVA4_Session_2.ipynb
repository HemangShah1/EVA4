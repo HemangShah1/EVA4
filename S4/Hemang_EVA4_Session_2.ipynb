{
  "nbformat": 4,
  "nbformat_minor": 0,
  "metadata": {
    "colab": {
      "provenance": []
    },
    "kernelspec": {
      "name": "python3",
      "display_name": "Python 3"
    },
    "accelerator": "GPU",
    "gpuClass": "standard"
  },
  "cells": [
    {
      "cell_type": "code",
      "metadata": {
        "id": "0m2JWFliFfKT"
      },
      "source": [
        "from __future__ import print_function\n",
        "import torch\n",
        "import torch.nn as nn\n",
        "import torch.nn.functional as F\n",
        "import torch.optim as optim\n",
        "from torchvision import datasets, transforms"
      ],
      "execution_count": 1,
      "outputs": []
    },
    {
      "cell_type": "code",
      "source": [
        "torch.manual_seed(1)\n",
        "batch_size = 64\n",
        "\n",
        "kwargs = {'num_workers': 1, 'pin_memory': True} if use_cuda else {}\n",
        "train_loader = torch.utils.data.DataLoader(\n",
        "    datasets.MNIST('../data', train=True, download=True,\n",
        "                    transform=transforms.Compose([\n",
        "                        transforms.ToTensor(),\n",
        "                        transforms.Normalize((0.1307,), (0.3081,))\n",
        "                    ])),\n",
        "    batch_size=batch_size, shuffle=True, **kwargs)\n",
        "test_loader = torch.utils.data.DataLoader(\n",
        "    datasets.MNIST('../data', train=False, transform=transforms.Compose([\n",
        "                        transforms.ToTensor(),\n",
        "                        transforms.Normalize((0.1307,), (0.3081,))\n",
        "                    ])),\n",
        "    batch_size=batch_size, shuffle=True, **kwargs)\n"
      ],
      "metadata": {
        "id": "mZcqrCPyBwH6"
      },
      "execution_count": null,
      "outputs": []
    },
    {
      "cell_type": "code",
      "source": [
        "from tqdm import tqdm\n",
        "def train(model, device, train_loader, optimizer, epoch):\n",
        "    model.train()\n",
        "    pbar = tqdm(train_loader)\n",
        "    for batch_idx, (data, target) in enumerate(pbar):\n",
        "        data, target = data.to(device), target.to(device)\n",
        "        optimizer.zero_grad()\n",
        "        output = model(data)\n",
        "        loss = F.nll_loss(output, target)\n",
        "        loss.backward()\n",
        "        optimizer.step()\n",
        "        pbar.set_description(desc= f'loss={loss.item()} batch_id={batch_idx}')\n",
        "\n",
        "\n",
        "def test(model, device, test_loader):\n",
        "    model.eval()\n",
        "    test_loss = 0\n",
        "    correct = 0\n",
        "    with torch.no_grad():\n",
        "        for data, target in test_loader:\n",
        "            data, target = data.to(device), target.to(device)\n",
        "            output = model(data)\n",
        "            test_loss += F.nll_loss(output, target, reduction='sum').item()  # sum up batch loss\n",
        "            pred = output.argmax(dim=1, keepdim=True)  # get the index of the max log-probability\n",
        "            correct += pred.eq(target.view_as(pred)).sum().item()\n",
        "\n",
        "    test_loss /= len(test_loader.dataset)\n",
        "\n",
        "    print('\\nTest set: Average loss: {:.4f}, Accuracy: {}/{} ({:.0f}%)\\n'.format(\n",
        "        test_loss, correct, len(test_loader.dataset),\n",
        "        100. * correct / len(test_loader.dataset)))"
      ],
      "metadata": {
        "id": "zZ61ssBZB2TC"
      },
      "execution_count": null,
      "outputs": []
    },
    {
      "cell_type": "code",
      "source": [
        "!pip install torchsummary\n",
        "from torchsummary import summary\n",
        "use_cuda = torch.cuda.is_available()\n",
        "device = torch.device(\"cuda\" if use_cuda else \"cpu\")\n",
        "print(device)"
      ],
      "metadata": {
        "id": "22Bfds0LB6Oc"
      },
      "execution_count": null,
      "outputs": []
    },
    {
      "cell_type": "code",
      "metadata": {
        "id": "h_Cx9q2QFgM7",
        "colab": {
          "base_uri": "https://localhost:8080/"
        },
        "outputId": "7af8a0c8-1782-4b73-df12-d764b65b78cd"
      },
      "source": [
        "class Net(nn.Module):\n",
        "    def __init__(self):\n",
        "        super(Net, self).__init__()\n",
        "        self.conv1 = nn.Conv2d(1, 32, 3, padding=1) #input -? OUtput? RF\n",
        "        self.conv2 = nn.Conv2d(32, 64, 3, padding=1)\n",
        "        self.pool1 = nn.MaxPool2d(2, 2)\n",
        "        self.conv3 = nn.Conv2d(64, 128, 3, padding=1)\n",
        "        self.conv4 = nn.Conv2d(128, 256, 3, padding=1)\n",
        "        self.pool2 = nn.MaxPool2d(2, 2)\n",
        "        self.conv5 = nn.Conv2d(256, 512, 3)\n",
        "        self.conv6 = nn.Conv2d(512, 1024, 3)\n",
        "        self.conv7 = nn.Conv2d(1024, 10, 3)\n",
        "\n",
        "    def forward(self, x):\n",
        "        x = self.pool1(F.relu(self.conv2(F.relu(self.conv1(x)))))\n",
        "        x = self.pool2(F.relu(self.conv4(F.relu(self.conv3(x)))))\n",
        "        x = F.relu(self.conv6(F.relu(self.conv5(x))))\n",
        "        x = self.conv7(x)\n",
        "        x = x.view(-1, 10)\n",
        "        return F.log_softmax(x)\n",
        "\n",
        "\n",
        "model = Net().to(device)\n",
        "summary(model, input_size=(1, 28, 28))\n",
        "\n",
        "#6M params!\n"
      ],
      "execution_count": 2,
      "outputs": [
        {
          "output_type": "stream",
          "name": "stdout",
          "text": [
            "Looking in indexes: https://pypi.org/simple, https://us-python.pkg.dev/colab-wheels/public/simple/\n",
            "Requirement already satisfied: torchsummary in /usr/local/lib/python3.8/dist-packages (1.5.1)\n",
            "cuda\n",
            "----------------------------------------------------------------\n",
            "        Layer (type)               Output Shape         Param #\n",
            "================================================================\n",
            "            Conv2d-1           [-1, 32, 28, 28]             320\n",
            "            Conv2d-2           [-1, 64, 28, 28]          18,496\n",
            "         MaxPool2d-3           [-1, 64, 14, 14]               0\n",
            "            Conv2d-4          [-1, 128, 14, 14]          73,856\n",
            "            Conv2d-5          [-1, 256, 14, 14]         295,168\n",
            "         MaxPool2d-6            [-1, 256, 7, 7]               0\n",
            "            Conv2d-7            [-1, 512, 5, 5]       1,180,160\n",
            "            Conv2d-8           [-1, 1024, 3, 3]       4,719,616\n",
            "            Conv2d-9             [-1, 10, 1, 1]          92,170\n",
            "================================================================\n",
            "Total params: 6,379,786\n",
            "Trainable params: 6,379,786\n",
            "Non-trainable params: 0\n",
            "----------------------------------------------------------------\n",
            "Input size (MB): 0.00\n",
            "Forward/backward pass size (MB): 1.51\n",
            "Params size (MB): 24.34\n",
            "Estimated Total Size (MB): 25.85\n",
            "----------------------------------------------------------------\n"
          ]
        },
        {
          "output_type": "stream",
          "name": "stderr",
          "text": [
            "<ipython-input-2-6de658d552be>:20: UserWarning: Implicit dimension choice for log_softmax has been deprecated. Change the call to include dim=X as an argument.\n",
            "  return F.log_softmax(x)\n"
          ]
        }
      ]
    },
    {
      "cell_type": "code",
      "source": [
        "class Net2(nn.Module):\n",
        "    def __init__(self):\n",
        "        super(Net2, self).__init__()\n",
        "        self.conv1 = nn.Conv2d(1, 32, 3, padding=1) #input -? OUtput? RF\n",
        "        self.conv2 = nn.Conv2d(32, 64, 3, padding=1)\n",
        "        self.pool1 = nn.MaxPool2d(2, 2)\n",
        "        self.conv3 = nn.Conv2d(64, 128, 3, padding=1)\n",
        "        self.conv4 = nn.Conv2d(128, 256, 3, padding=1)\n",
        "        self.pool2 = nn.MaxPool2d(2, 2)\n",
        "        self.conv5 = nn.Conv2d(256, 512, 3)\n",
        "        self.conv6 = nn.Conv2d(512, 10, 5)\n",
        "        # self.conv7 = nn.Conv2d(1024, 10, 3)\n",
        "\n",
        "    def forward(self, x):\n",
        "        x = self.pool1(F.relu(self.conv2(F.relu(self.conv1(x)))))\n",
        "        x = self.pool2(F.relu(self.conv4(F.relu(self.conv3(x)))))\n",
        "        x = self.conv6(F.relu(self.conv5(x)))\n",
        "        # x = self.conv7(x)\n",
        "        x = x.view(-1, 10)\n",
        "        return F.log_softmax(x)\n",
        "\n",
        "!pip install torchsummary\n",
        "from torchsummary import summary\n",
        "use_cuda = torch.cuda.is_available()\n",
        "device = torch.device(\"cuda\" if use_cuda else \"cpu\")\n",
        "print(device)\n",
        "model = Net2().to(device)\n",
        "summary(model, input_size=(1, 28, 28))\n",
        "\n",
        "# remove 1024 layer, replace earlier layer by 5x5 kernel\n",
        "# 1.6M params"
      ],
      "metadata": {
        "colab": {
          "base_uri": "https://localhost:8080/"
        },
        "id": "5otTYwYMB1i5",
        "outputId": "8635d721-b224-498b-b149-25b518526091"
      },
      "execution_count": 3,
      "outputs": [
        {
          "output_type": "stream",
          "name": "stdout",
          "text": [
            "Looking in indexes: https://pypi.org/simple, https://us-python.pkg.dev/colab-wheels/public/simple/\n",
            "Requirement already satisfied: torchsummary in /usr/local/lib/python3.8/dist-packages (1.5.1)\n",
            "cuda\n",
            "----------------------------------------------------------------\n",
            "        Layer (type)               Output Shape         Param #\n",
            "================================================================\n",
            "            Conv2d-1           [-1, 32, 28, 28]             320\n",
            "            Conv2d-2           [-1, 64, 28, 28]          18,496\n",
            "         MaxPool2d-3           [-1, 64, 14, 14]               0\n",
            "            Conv2d-4          [-1, 128, 14, 14]          73,856\n",
            "            Conv2d-5          [-1, 256, 14, 14]         295,168\n",
            "         MaxPool2d-6            [-1, 256, 7, 7]               0\n",
            "            Conv2d-7            [-1, 512, 5, 5]       1,180,160\n",
            "            Conv2d-8             [-1, 10, 1, 1]         128,010\n",
            "================================================================\n",
            "Total params: 1,696,010\n",
            "Trainable params: 1,696,010\n",
            "Non-trainable params: 0\n",
            "----------------------------------------------------------------\n",
            "Input size (MB): 0.00\n",
            "Forward/backward pass size (MB): 1.44\n",
            "Params size (MB): 6.47\n",
            "Estimated Total Size (MB): 7.91\n",
            "----------------------------------------------------------------\n"
          ]
        },
        {
          "output_type": "stream",
          "name": "stderr",
          "text": [
            "<ipython-input-3-571fe9f096c9>:20: UserWarning: Implicit dimension choice for log_softmax has been deprecated. Change the call to include dim=X as an argument.\n",
            "  return F.log_softmax(x)\n"
          ]
        }
      ]
    },
    {
      "cell_type": "code",
      "source": [
        "class Net3(nn.Module):\n",
        "    def __init__(self):\n",
        "        super(Net3, self).__init__()\n",
        "        self.conv1 = nn.Conv2d(1, 32, 3, padding=1) #input -? OUtput? RF\n",
        "        self.conv2 = nn.Conv2d(32, 64, 3, padding=1)\n",
        "        self.pool1 = nn.MaxPool2d(2, 2)\n",
        "        self.conv3 = nn.Conv2d(64, 128, 3, padding=1)\n",
        "        self.conv4 = nn.Conv2d(128, 256, 3, padding=1)\n",
        "        self.pool2 = nn.MaxPool2d(2, 2)\n",
        "        self.conv5 = nn.Conv2d(256, 256, 3)\n",
        "        self.conv6 = nn.Conv2d(256, 256, 3)\n",
        "        self.conv7 = nn.Conv2d(256, 10, 3)\n",
        "\n",
        "    def forward(self, x):\n",
        "        x = self.pool1(F.relu(self.conv2(F.relu(self.conv1(x)))))\n",
        "        x = self.pool2(F.relu(self.conv4(F.relu(self.conv3(x)))))\n",
        "        x = F.relu(self.conv6(F.relu(self.conv5(x))))\n",
        "        x = self.conv7(x)\n",
        "        x = x.view(-1, 10)\n",
        "        return F.log_softmax(x)\n",
        "\n",
        "summary(Net3().to(device), input_size=(1, 28, 28))\n",
        "\n",
        "# num ch capped to 256\n",
        "# 1.5M params"
      ],
      "metadata": {
        "colab": {
          "base_uri": "https://localhost:8080/"
        },
        "id": "g2jL14YGHMnX",
        "outputId": "d6cd4dc9-b206-4ede-e72c-6c9fdcd5d72c"
      },
      "execution_count": 4,
      "outputs": [
        {
          "output_type": "stream",
          "name": "stdout",
          "text": [
            "----------------------------------------------------------------\n",
            "        Layer (type)               Output Shape         Param #\n",
            "================================================================\n",
            "            Conv2d-1           [-1, 32, 28, 28]             320\n",
            "            Conv2d-2           [-1, 64, 28, 28]          18,496\n",
            "         MaxPool2d-3           [-1, 64, 14, 14]               0\n",
            "            Conv2d-4          [-1, 128, 14, 14]          73,856\n",
            "            Conv2d-5          [-1, 256, 14, 14]         295,168\n",
            "         MaxPool2d-6            [-1, 256, 7, 7]               0\n",
            "            Conv2d-7            [-1, 256, 5, 5]         590,080\n",
            "            Conv2d-8            [-1, 256, 3, 3]         590,080\n",
            "            Conv2d-9             [-1, 10, 1, 1]          23,050\n",
            "================================================================\n",
            "Total params: 1,591,050\n",
            "Trainable params: 1,591,050\n",
            "Non-trainable params: 0\n",
            "----------------------------------------------------------------\n",
            "Input size (MB): 0.00\n",
            "Forward/backward pass size (MB): 1.41\n",
            "Params size (MB): 6.07\n",
            "Estimated Total Size (MB): 7.48\n",
            "----------------------------------------------------------------\n"
          ]
        },
        {
          "output_type": "stream",
          "name": "stderr",
          "text": [
            "<ipython-input-4-406101a928c6>:20: UserWarning: Implicit dimension choice for log_softmax has been deprecated. Change the call to include dim=X as an argument.\n",
            "  return F.log_softmax(x)\n"
          ]
        }
      ]
    },
    {
      "cell_type": "code",
      "source": [
        "class Net4(nn.Module):\n",
        "    def __init__(self):\n",
        "        super(Net4, self).__init__()\n",
        "        self.conv1 = nn.Conv2d(1, 32, 3, padding=1) #input -? OUtput? RF\n",
        "        self.conv2 = nn.Conv2d(32, 64, 3, padding=1)\n",
        "        self.pool1 = nn.MaxPool2d(2, 2)\n",
        "        self.conv3 = nn.Conv2d(64, 128, 3, padding=1)\n",
        "        self.conv4 = nn.Conv2d(128, 128, 3, padding=1)\n",
        "        self.pool2 = nn.MaxPool2d(2, 2)\n",
        "        self.conv5 = nn.Conv2d(128, 128, 3)\n",
        "        self.conv6 = nn.Conv2d(128, 128, 3)\n",
        "        self.conv7 = nn.Conv2d(128, 10, 3)\n",
        "\n",
        "    def forward(self, x):\n",
        "        x = self.pool1(F.relu(self.conv2(F.relu(self.conv1(x)))))\n",
        "        x = self.pool2(F.relu(self.conv4(F.relu(self.conv3(x)))))\n",
        "        x = F.relu(self.conv6(F.relu(self.conv5(x))))\n",
        "        x = self.conv7(x)\n",
        "        x = x.view(-1, 10)\n",
        "        return F.log_softmax(x)\n",
        "\n",
        "summary(Net4().to(device), input_size=(1, 28, 28))\n",
        "\n",
        "# num ch capped to 128\n",
        "#546k params"
      ],
      "metadata": {
        "colab": {
          "base_uri": "https://localhost:8080/"
        },
        "id": "3ZYU3PEII96J",
        "outputId": "d1895ede-4fc7-4400-e594-43bb1def8ad4"
      },
      "execution_count": 5,
      "outputs": [
        {
          "output_type": "stream",
          "name": "stdout",
          "text": [
            "----------------------------------------------------------------\n",
            "        Layer (type)               Output Shape         Param #\n",
            "================================================================\n",
            "            Conv2d-1           [-1, 32, 28, 28]             320\n",
            "            Conv2d-2           [-1, 64, 28, 28]          18,496\n",
            "         MaxPool2d-3           [-1, 64, 14, 14]               0\n",
            "            Conv2d-4          [-1, 128, 14, 14]          73,856\n",
            "            Conv2d-5          [-1, 128, 14, 14]         147,584\n",
            "         MaxPool2d-6            [-1, 128, 7, 7]               0\n",
            "            Conv2d-7            [-1, 128, 5, 5]         147,584\n",
            "            Conv2d-8            [-1, 128, 3, 3]         147,584\n",
            "            Conv2d-9             [-1, 10, 1, 1]          11,530\n",
            "================================================================\n",
            "Total params: 546,954\n",
            "Trainable params: 546,954\n",
            "Non-trainable params: 0\n",
            "----------------------------------------------------------------\n",
            "Input size (MB): 0.00\n",
            "Forward/backward pass size (MB): 1.13\n",
            "Params size (MB): 2.09\n",
            "Estimated Total Size (MB): 3.22\n",
            "----------------------------------------------------------------\n"
          ]
        },
        {
          "output_type": "stream",
          "name": "stderr",
          "text": [
            "<ipython-input-5-2bb1471b3881>:20: UserWarning: Implicit dimension choice for log_softmax has been deprecated. Change the call to include dim=X as an argument.\n",
            "  return F.log_softmax(x)\n"
          ]
        }
      ]
    },
    {
      "cell_type": "code",
      "source": [
        "class Net5(nn.Module):\n",
        "    def __init__(self):\n",
        "        super(Net5, self).__init__()\n",
        "        self.conv1 = nn.Conv2d(1, 32, 3, padding=1) #input -? OUtput? RF\n",
        "        self.conv2 = nn.Conv2d(32, 64, 3, padding=1)\n",
        "        self.pool1 = nn.MaxPool2d(2, 2)\n",
        "        self.conv3 = nn.Conv2d(64, 64, 3, padding=1)\n",
        "        self.conv4 = nn.Conv2d(64, 64, 3, padding=1)\n",
        "        self.pool2 = nn.MaxPool2d(2, 2)\n",
        "        self.conv5 = nn.Conv2d(64, 64, 3)\n",
        "        self.conv6 = nn.Conv2d(64, 64, 3)\n",
        "        self.conv7 = nn.Conv2d(64, 10, 3)\n",
        "\n",
        "    def forward(self, x):\n",
        "        x = self.pool1(F.relu(self.conv2(F.relu(self.conv1(x)))))\n",
        "        x = self.pool2(F.relu(self.conv4(F.relu(self.conv3(x)))))\n",
        "        x = F.relu(self.conv6(F.relu(self.conv5(x))))\n",
        "        x = self.conv7(x)\n",
        "        x = x.view(-1, 10)\n",
        "        return F.log_softmax(x)\n",
        "\n",
        "summary(Net5().to(device), input_size=(1, 28, 28))\n",
        "\n",
        "# num ch capped to 64\n",
        "#172k params"
      ],
      "metadata": {
        "colab": {
          "base_uri": "https://localhost:8080/"
        },
        "id": "Vlx8A37uJ8xb",
        "outputId": "3a577793-ffa7-4ad6-edc5-7efc3e034ec9"
      },
      "execution_count": 6,
      "outputs": [
        {
          "output_type": "stream",
          "name": "stdout",
          "text": [
            "----------------------------------------------------------------\n",
            "        Layer (type)               Output Shape         Param #\n",
            "================================================================\n",
            "            Conv2d-1           [-1, 32, 28, 28]             320\n",
            "            Conv2d-2           [-1, 64, 28, 28]          18,496\n",
            "         MaxPool2d-3           [-1, 64, 14, 14]               0\n",
            "            Conv2d-4           [-1, 64, 14, 14]          36,928\n",
            "            Conv2d-5           [-1, 64, 14, 14]          36,928\n",
            "         MaxPool2d-6             [-1, 64, 7, 7]               0\n",
            "            Conv2d-7             [-1, 64, 5, 5]          36,928\n",
            "            Conv2d-8             [-1, 64, 3, 3]          36,928\n",
            "            Conv2d-9             [-1, 10, 1, 1]           5,770\n",
            "================================================================\n",
            "Total params: 172,298\n",
            "Trainable params: 172,298\n",
            "Non-trainable params: 0\n",
            "----------------------------------------------------------------\n",
            "Input size (MB): 0.00\n",
            "Forward/backward pass size (MB): 0.90\n",
            "Params size (MB): 0.66\n",
            "Estimated Total Size (MB): 1.56\n",
            "----------------------------------------------------------------\n"
          ]
        },
        {
          "output_type": "stream",
          "name": "stderr",
          "text": [
            "<ipython-input-6-608a7deb819f>:20: UserWarning: Implicit dimension choice for log_softmax has been deprecated. Change the call to include dim=X as an argument.\n",
            "  return F.log_softmax(x)\n"
          ]
        }
      ]
    },
    {
      "cell_type": "code",
      "source": [
        "class Net6(nn.Module):\n",
        "    def __init__(self):\n",
        "        super(Net6, self).__init__()\n",
        "        self.conv1 = nn.Conv2d(1, 32, 3, padding=1) #input -? OUtput? RF\n",
        "        self.conv2 = nn.Conv2d(32, 32, 3, padding=1)\n",
        "        self.pool1 = nn.MaxPool2d(2, 2)\n",
        "        self.conv3 = nn.Conv2d(32, 32, 3, padding=1)\n",
        "        self.conv4 = nn.Conv2d(32, 32, 3, padding=1)\n",
        "        self.pool2 = nn.MaxPool2d(2, 2)\n",
        "        self.conv5 = nn.Conv2d(32, 32, 3)\n",
        "        self.conv6 = nn.Conv2d(32, 32, 3)\n",
        "        self.conv7 = nn.Conv2d(32, 10, 3)\n",
        "\n",
        "    def forward(self, x):\n",
        "        x = self.pool1(F.relu(self.conv2(F.relu(self.conv1(x)))))\n",
        "        x = self.pool2(F.relu(self.conv4(F.relu(self.conv3(x)))))\n",
        "        x = F.relu(self.conv6(F.relu(self.conv5(x))))\n",
        "        x = self.conv7(x)\n",
        "        x = x.view(-1, 10)\n",
        "        return F.log_softmax(x)\n",
        "\n",
        "summary(Net6().to(device), input_size=(1, 28, 28))\n",
        "\n",
        "# num ch capped to 32\n",
        "#50k params\n",
        "#98.5 in 5 "
      ],
      "metadata": {
        "colab": {
          "base_uri": "https://localhost:8080/"
        },
        "id": "WoJ-6hKCLbU9",
        "outputId": "254c5bbb-ad82-41c6-87ba-a94c72573ac5"
      },
      "execution_count": 7,
      "outputs": [
        {
          "output_type": "stream",
          "name": "stderr",
          "text": [
            "<ipython-input-7-cc23c86254df>:20: UserWarning: Implicit dimension choice for log_softmax has been deprecated. Change the call to include dim=X as an argument.\n",
            "  return F.log_softmax(x)\n"
          ]
        },
        {
          "output_type": "stream",
          "name": "stdout",
          "text": [
            "----------------------------------------------------------------\n",
            "        Layer (type)               Output Shape         Param #\n",
            "================================================================\n",
            "            Conv2d-1           [-1, 32, 28, 28]             320\n",
            "            Conv2d-2           [-1, 32, 28, 28]           9,248\n",
            "         MaxPool2d-3           [-1, 32, 14, 14]               0\n",
            "            Conv2d-4           [-1, 32, 14, 14]           9,248\n",
            "            Conv2d-5           [-1, 32, 14, 14]           9,248\n",
            "         MaxPool2d-6             [-1, 32, 7, 7]               0\n",
            "            Conv2d-7             [-1, 32, 5, 5]           9,248\n",
            "            Conv2d-8             [-1, 32, 3, 3]           9,248\n",
            "            Conv2d-9             [-1, 10, 1, 1]           2,890\n",
            "================================================================\n",
            "Total params: 49,450\n",
            "Trainable params: 49,450\n",
            "Non-trainable params: 0\n",
            "----------------------------------------------------------------\n",
            "Input size (MB): 0.00\n",
            "Forward/backward pass size (MB): 0.55\n",
            "Params size (MB): 0.19\n",
            "Estimated Total Size (MB): 0.74\n",
            "----------------------------------------------------------------\n"
          ]
        }
      ]
    },
    {
      "cell_type": "code",
      "source": [
        "class Net7(nn.Module):\n",
        "    def __init__(self):\n",
        "        super(Net7, self).__init__()\n",
        "        self.conv1 = nn.Conv2d(1, 32, 3, padding=1) #input -? OUtput? RF\n",
        "        self.conv2 = nn.Conv2d(32, 32, 3, padding=1)\n",
        "        self.pool1 = nn.MaxPool2d(2, 2)\n",
        "        self.conv3 = nn.Conv2d(32, 64, 3, padding=1)\n",
        "        self.conv4 = nn.Conv2d(64, 64, 3, padding=1)\n",
        "        self.pool2 = nn.MaxPool2d(2, 2)\n",
        "        self.conv5 = nn.Conv2d(64, 32, 3)\n",
        "        self.conv6 = nn.Conv2d(32, 32, 3)\n",
        "        self.conv7 = nn.Conv2d(32, 10, 3)\n",
        "\n",
        "    def forward(self, x):\n",
        "        x = self.pool1(F.relu(self.conv2(F.relu(self.conv1(x)))))\n",
        "        x = self.pool2(F.relu(self.conv4(F.relu(self.conv3(x)))))\n",
        "        x = F.relu(self.conv6(F.relu(self.conv5(x))))\n",
        "        x = self.conv7(x)\n",
        "        x = x.view(-1, 10)\n",
        "        return F.log_softmax(x)\n",
        "\n",
        "summary(Net7().to(device), input_size=(1, 28, 28))\n",
        "\n",
        "# added 64 ch to couple of layer in the middle\n",
        "#96k params\n",
        "#98.5 in 5 "
      ],
      "metadata": {
        "colab": {
          "base_uri": "https://localhost:8080/"
        },
        "id": "qvU1CfDWMOUi",
        "outputId": "f411f5ba-9255-4e28-c55b-d9ddc9a0cf75"
      },
      "execution_count": 8,
      "outputs": [
        {
          "output_type": "stream",
          "name": "stdout",
          "text": [
            "----------------------------------------------------------------\n",
            "        Layer (type)               Output Shape         Param #\n",
            "================================================================\n",
            "            Conv2d-1           [-1, 32, 28, 28]             320\n",
            "            Conv2d-2           [-1, 32, 28, 28]           9,248\n",
            "         MaxPool2d-3           [-1, 32, 14, 14]               0\n",
            "            Conv2d-4           [-1, 64, 14, 14]          18,496\n",
            "            Conv2d-5           [-1, 64, 14, 14]          36,928\n",
            "         MaxPool2d-6             [-1, 64, 7, 7]               0\n",
            "            Conv2d-7             [-1, 32, 5, 5]          18,464\n",
            "            Conv2d-8             [-1, 32, 3, 3]           9,248\n",
            "            Conv2d-9             [-1, 10, 1, 1]           2,890\n",
            "================================================================\n",
            "Total params: 95,594\n",
            "Trainable params: 95,594\n",
            "Non-trainable params: 0\n",
            "----------------------------------------------------------------\n",
            "Input size (MB): 0.00\n",
            "Forward/backward pass size (MB): 0.65\n",
            "Params size (MB): 0.36\n",
            "Estimated Total Size (MB): 1.02\n",
            "----------------------------------------------------------------\n"
          ]
        },
        {
          "output_type": "stream",
          "name": "stderr",
          "text": [
            "<ipython-input-8-7935126f9900>:20: UserWarning: Implicit dimension choice for log_softmax has been deprecated. Change the call to include dim=X as an argument.\n",
            "  return F.log_softmax(x)\n"
          ]
        }
      ]
    },
    {
      "cell_type": "code",
      "source": [
        "class Net8(nn.Module):\n",
        "    def __init__(self):\n",
        "        super(Net8, self).__init__()\n",
        "        self.conv1 = nn.Conv2d(1, 16, 3, padding=0)   # 26\n",
        "        self.pool1 = nn.MaxPool2d(2, 2)               # 13\n",
        "        self.conv2 = nn.Conv2d(16, 32, 3, padding=0)  # 11\n",
        "        self.pool2 = nn.MaxPool2d(2, 2)               # 5\n",
        "        self.conv3 = nn.Conv2d(32, 16, 3, padding=0)  # 3\n",
        "        self.conv4 = nn.Conv2d(16, 10, 3, padding=0)  # 1\n",
        "\n",
        "        \n",
        "\n",
        "    def forward(self, x):\n",
        "        x = self.pool1(F.relu(self.conv1(x)))\n",
        "        x = self.pool2(F.relu(self.conv2(x)))\n",
        "        x = self.conv4(F.relu(self.conv3(x)))\n",
        "        x = x.view(-1, 10)\n",
        "        return F.log_softmax(x)\n",
        "\n",
        "summary(Net8().to(device), input_size=(1, 28, 28))\n",
        "\n",
        "# rewrite. Without padding. only 4 conv layers. num ch capped to 32.\n",
        "# 10.8k params\n",
        "#Acc: 98.43 in 5"
      ],
      "metadata": {
        "colab": {
          "base_uri": "https://localhost:8080/"
        },
        "id": "M2kr6hwoM8fz",
        "outputId": "2907bf48-2bac-4d6e-f997-2d6f6b475924"
      },
      "execution_count": 9,
      "outputs": [
        {
          "output_type": "stream",
          "name": "stdout",
          "text": [
            "----------------------------------------------------------------\n",
            "        Layer (type)               Output Shape         Param #\n",
            "================================================================\n",
            "            Conv2d-1           [-1, 16, 26, 26]             160\n",
            "         MaxPool2d-2           [-1, 16, 13, 13]               0\n",
            "            Conv2d-3           [-1, 32, 11, 11]           4,640\n",
            "         MaxPool2d-4             [-1, 32, 5, 5]               0\n",
            "            Conv2d-5             [-1, 16, 3, 3]           4,624\n",
            "            Conv2d-6             [-1, 10, 1, 1]           1,450\n",
            "================================================================\n",
            "Total params: 10,874\n",
            "Trainable params: 10,874\n",
            "Non-trainable params: 0\n",
            "----------------------------------------------------------------\n",
            "Input size (MB): 0.00\n",
            "Forward/backward pass size (MB): 0.14\n",
            "Params size (MB): 0.04\n",
            "Estimated Total Size (MB): 0.18\n",
            "----------------------------------------------------------------\n"
          ]
        },
        {
          "output_type": "stream",
          "name": "stderr",
          "text": [
            "<ipython-input-9-8ad78ad7ac8c>:18: UserWarning: Implicit dimension choice for log_softmax has been deprecated. Change the call to include dim=X as an argument.\n",
            "  return F.log_softmax(x)\n"
          ]
        }
      ]
    },
    {
      "cell_type": "code",
      "source": [
        "class Net9(nn.Module):\n",
        "    def __init__(self):\n",
        "        super(Net9, self).__init__()\n",
        "        self.conv1 = nn.Conv2d(1, 16, 3, padding=1)   # 28\n",
        "        self.pool1 = nn.MaxPool2d(2, 2)               # 14\n",
        "        self.conv2 = nn.Conv2d(16, 32, 3, padding=1)  # 14\n",
        "        self.pool2 = nn.MaxPool2d(2, 2)               # 7\n",
        "        self.conv3 = nn.Conv2d(32, 16, 3, padding=0)  # 5\n",
        "        self.conv4 = nn.Conv2d(16, 16, 3, padding=0)  # 3\n",
        "        self.conv5 = nn.Conv2d(16, 10, 3, padding=0)  # 1\n",
        "\n",
        "        \n",
        "\n",
        "    def forward(self, x):\n",
        "        x = self.pool1(F.relu(self.conv1(x)))\n",
        "        x = self.pool2(F.relu(self.conv2(x)))\n",
        "        x = self.conv5(F.relu(self.conv4(F.relu(self.conv3(x)))))\n",
        "        x = x.view(-1, 10)\n",
        "        return F.log_softmax(x)\n",
        "\n",
        "summary(Net9().to(device), input_size=(1, 28, 28))\n",
        "\n",
        "# re-added padding, params increased. added a conv layer\n",
        "# 13k params\n",
        "#Acc: 98.55 in 5"
      ],
      "metadata": {
        "colab": {
          "base_uri": "https://localhost:8080/"
        },
        "id": "IEc3-_qfPVzi",
        "outputId": "7a22a4ee-6fcc-4d1d-db0a-78198e63f11d"
      },
      "execution_count": 10,
      "outputs": [
        {
          "output_type": "stream",
          "name": "stdout",
          "text": [
            "----------------------------------------------------------------\n",
            "        Layer (type)               Output Shape         Param #\n",
            "================================================================\n",
            "            Conv2d-1           [-1, 16, 28, 28]             160\n",
            "         MaxPool2d-2           [-1, 16, 14, 14]               0\n",
            "            Conv2d-3           [-1, 32, 14, 14]           4,640\n",
            "         MaxPool2d-4             [-1, 32, 7, 7]               0\n",
            "            Conv2d-5             [-1, 16, 5, 5]           4,624\n",
            "            Conv2d-6             [-1, 16, 3, 3]           2,320\n",
            "            Conv2d-7             [-1, 10, 1, 1]           1,450\n",
            "================================================================\n",
            "Total params: 13,194\n",
            "Trainable params: 13,194\n",
            "Non-trainable params: 0\n",
            "----------------------------------------------------------------\n",
            "Input size (MB): 0.00\n",
            "Forward/backward pass size (MB): 0.18\n",
            "Params size (MB): 0.05\n",
            "Estimated Total Size (MB): 0.24\n",
            "----------------------------------------------------------------\n"
          ]
        },
        {
          "output_type": "stream",
          "name": "stderr",
          "text": [
            "<ipython-input-10-7a22a28ccb68>:19: UserWarning: Implicit dimension choice for log_softmax has been deprecated. Change the call to include dim=X as an argument.\n",
            "  return F.log_softmax(x)\n"
          ]
        }
      ]
    },
    {
      "cell_type": "code",
      "source": [
        "class Net10(nn.Module):\n",
        "    def __init__(self):\n",
        "        super(Net10, self).__init__()\n",
        "        self.conv1 = nn.Conv2d(1, 16, 3, padding=1)   # 28\n",
        "        self.pool1 = nn.MaxPool2d(2, 2)               # 14\n",
        "        self.conv2 = nn.Conv2d(16, 32, 3, padding=1)  # 14\n",
        "        self.pool2 = nn.MaxPool2d(2, 2)               # 7\n",
        "        self.conv3 = nn.Conv2d(32, 16, 3, padding=0)  # 5\n",
        "        self.conv4 = nn.Conv2d(16, 8, 3, padding=0)  # 3\n",
        "        self.conv5 = nn.Conv2d(8, 10, 3, padding=0)  # 1\n",
        "\n",
        "    def forward(self, x):\n",
        "        x = self.pool1(F.relu(self.conv1(x)))\n",
        "        x = self.pool2(F.relu(self.conv2(x)))\n",
        "        x = self.conv5(F.relu(self.conv4(F.relu(self.conv3(x)))))\n",
        "        x = x.view(-1, 10)\n",
        "        return F.log_softmax(x)\n",
        "\n",
        "summary(Net10().to(device), input_size=(1, 28, 28))\n",
        "\n",
        "# reduced conv4 num ch\n",
        "# 11k params\n",
        "#Acc: 98.23 in 5"
      ],
      "metadata": {
        "colab": {
          "base_uri": "https://localhost:8080/"
        },
        "id": "DJGGn6vcQHYf",
        "outputId": "1de83969-0c4f-4167-ec3e-632f5cd2fc8a"
      },
      "execution_count": 11,
      "outputs": [
        {
          "output_type": "stream",
          "name": "stdout",
          "text": [
            "----------------------------------------------------------------\n",
            "        Layer (type)               Output Shape         Param #\n",
            "================================================================\n",
            "            Conv2d-1           [-1, 16, 28, 28]             160\n",
            "         MaxPool2d-2           [-1, 16, 14, 14]               0\n",
            "            Conv2d-3           [-1, 32, 14, 14]           4,640\n",
            "         MaxPool2d-4             [-1, 32, 7, 7]               0\n",
            "            Conv2d-5             [-1, 16, 5, 5]           4,624\n",
            "            Conv2d-6              [-1, 8, 3, 3]           1,160\n",
            "            Conv2d-7             [-1, 10, 1, 1]             730\n",
            "================================================================\n",
            "Total params: 11,314\n",
            "Trainable params: 11,314\n",
            "Non-trainable params: 0\n",
            "----------------------------------------------------------------\n",
            "Input size (MB): 0.00\n",
            "Forward/backward pass size (MB): 0.18\n",
            "Params size (MB): 0.04\n",
            "Estimated Total Size (MB): 0.23\n",
            "----------------------------------------------------------------\n"
          ]
        },
        {
          "output_type": "stream",
          "name": "stderr",
          "text": [
            "<ipython-input-11-d3031bf56399>:17: UserWarning: Implicit dimension choice for log_softmax has been deprecated. Change the call to include dim=X as an argument.\n",
            "  return F.log_softmax(x)\n"
          ]
        }
      ]
    },
    {
      "cell_type": "code",
      "source": [
        "class Net11(nn.Module):\n",
        "    def __init__(self):\n",
        "        super(Net11, self).__init__()\n",
        "        self.conv1 = nn.Conv2d(1, 16, 3, padding=1)   # 28\n",
        "        self.bn1 = nn.BatchNorm2d(16)\n",
        "\n",
        "        self.pool1 = nn.MaxPool2d(2, 2)               # 14\n",
        "\n",
        "        self.conv2 = nn.Conv2d(16, 32, 3, padding=1)  # 14\n",
        "        self.bn2 = nn.BatchNorm2d(32)\n",
        "        \n",
        "        self.pool2 = nn.MaxPool2d(2, 2)               # 7\n",
        "        \n",
        "        self.conv3 = nn.Conv2d(32, 16, 3, padding=0)  # 5\n",
        "        self.bn3 = nn.BatchNorm2d(16)\n",
        "        self.conv4 = nn.Conv2d(16, 8, 3, padding=0)  # 3\n",
        "        self.bn4 = nn.BatchNorm2d(8)\n",
        "        self.conv5 = nn.Conv2d(8, 10, 3, padding=0)  # 1\n",
        "\n",
        "    def forward(self, x):\n",
        "        x = self.pool1(self.bn1(F.relu(self.conv1(x))))\n",
        "        x = self.pool2(self.bn2(F.relu(self.conv2(x))))\n",
        "        x = self.conv5(self.bn4(F.relu(self.conv4(self.bn3(F.relu(self.conv3(x)))))))\n",
        "        x = x.view(-1, 10)\n",
        "        return F.log_softmax(x)\n",
        "\n",
        "summary(Net11().to(device), input_size=(1, 28, 28))\n",
        "\n",
        "# added batch norms\n",
        "# 11k params\n",
        "#Acc: 98.76 in 5\n"
      ],
      "metadata": {
        "colab": {
          "base_uri": "https://localhost:8080/"
        },
        "id": "QO4tiaKFQpV6",
        "outputId": "323e2f73-a83b-4722-d7fe-023d1a93e590"
      },
      "execution_count": 12,
      "outputs": [
        {
          "output_type": "stream",
          "name": "stdout",
          "text": [
            "----------------------------------------------------------------\n",
            "        Layer (type)               Output Shape         Param #\n",
            "================================================================\n",
            "            Conv2d-1           [-1, 16, 28, 28]             160\n",
            "       BatchNorm2d-2           [-1, 16, 28, 28]              32\n",
            "         MaxPool2d-3           [-1, 16, 14, 14]               0\n",
            "            Conv2d-4           [-1, 32, 14, 14]           4,640\n",
            "       BatchNorm2d-5           [-1, 32, 14, 14]              64\n",
            "         MaxPool2d-6             [-1, 32, 7, 7]               0\n",
            "            Conv2d-7             [-1, 16, 5, 5]           4,624\n",
            "       BatchNorm2d-8             [-1, 16, 5, 5]              32\n",
            "            Conv2d-9              [-1, 8, 3, 3]           1,160\n",
            "      BatchNorm2d-10              [-1, 8, 3, 3]              16\n",
            "           Conv2d-11             [-1, 10, 1, 1]             730\n",
            "================================================================\n",
            "Total params: 11,458\n",
            "Trainable params: 11,458\n",
            "Non-trainable params: 0\n",
            "----------------------------------------------------------------\n",
            "Input size (MB): 0.00\n",
            "Forward/backward pass size (MB): 0.33\n",
            "Params size (MB): 0.04\n",
            "Estimated Total Size (MB): 0.38\n",
            "----------------------------------------------------------------\n"
          ]
        },
        {
          "output_type": "stream",
          "name": "stderr",
          "text": [
            "<ipython-input-12-316ec9c74abd>:25: UserWarning: Implicit dimension choice for log_softmax has been deprecated. Change the call to include dim=X as an argument.\n",
            "  return F.log_softmax(x)\n"
          ]
        }
      ]
    },
    {
      "cell_type": "code",
      "source": [
        "class Net12(nn.Module):\n",
        "    def __init__(self):\n",
        "        super(Net12, self).__init__()\n",
        "        self.conv1 = nn.Conv2d(1, 16, 3, padding=1)   # 28\n",
        "        self.bn1 = nn.BatchNorm2d(16)\n",
        "\n",
        "        self.pool1 = nn.MaxPool2d(2, 2)               # 14\n",
        "        self.do1 = nn.Dropout(0.1)\n",
        "        \n",
        "        self.conv2 = nn.Conv2d(16, 32, 3, padding=1)  # 14\n",
        "        self.bn2 = nn.BatchNorm2d(32)\n",
        "        \n",
        "        self.pool2 = nn.MaxPool2d(2, 2)               # 7\n",
        "        self.do2 = nn.Dropout(0.1)\n",
        "        \n",
        "        self.conv3 = nn.Conv2d(32, 16, 3, padding=0)  # 5\n",
        "        self.bn3 = nn.BatchNorm2d(16)\n",
        "        self.do3 = nn.Dropout(0.1)\n",
        "\n",
        "        self.conv4 = nn.Conv2d(16, 8, 3, padding=0)  # 3\n",
        "        self.bn4 = nn.BatchNorm2d(8)\n",
        "        self.do4 = nn.Dropout(0.1)\n",
        "\n",
        "        self.conv5 = nn.Conv2d(8, 10, 3, padding=0)  # 1\n",
        "\n",
        "    def forward(self, x):\n",
        "        x = self.pool1(self.bn1(F.relu(self.conv1(x))))\n",
        "        x = self.do1(x)\n",
        "\n",
        "        x = self.pool2(self.bn2(F.relu(self.conv2(x))))\n",
        "        x = self.do2(x)\n",
        "\n",
        "        x = self.bn3(F.relu(self.conv3(x)))\n",
        "        x = self.do3(x)\n",
        "        \n",
        "        x = self.bn4(F.relu(self.conv4(x)))\n",
        "        x = self.do4(x)\n",
        "\n",
        "        x = self.conv5(x)\n",
        "        x = x.view(-1, 10)\n",
        "        return F.log_softmax(x)\n",
        "\n",
        "summary(Net12().to(device), input_size=(1, 28, 28))\n",
        "\n",
        "# added dropouts\n",
        "# 11.5k params\n",
        "# Acc: 99.0 in 5, 99.23 in 20"
      ],
      "metadata": {
        "colab": {
          "base_uri": "https://localhost:8080/"
        },
        "id": "Wxe37ufjUg9W",
        "outputId": "fd118e34-17b3-46d5-f992-0a277eb379ce"
      },
      "execution_count": 13,
      "outputs": [
        {
          "output_type": "stream",
          "name": "stdout",
          "text": [
            "----------------------------------------------------------------\n",
            "        Layer (type)               Output Shape         Param #\n",
            "================================================================\n",
            "            Conv2d-1           [-1, 16, 28, 28]             160\n",
            "       BatchNorm2d-2           [-1, 16, 28, 28]              32\n",
            "         MaxPool2d-3           [-1, 16, 14, 14]               0\n",
            "           Dropout-4           [-1, 16, 14, 14]               0\n",
            "            Conv2d-5           [-1, 32, 14, 14]           4,640\n",
            "       BatchNorm2d-6           [-1, 32, 14, 14]              64\n",
            "         MaxPool2d-7             [-1, 32, 7, 7]               0\n",
            "           Dropout-8             [-1, 32, 7, 7]               0\n",
            "            Conv2d-9             [-1, 16, 5, 5]           4,624\n",
            "      BatchNorm2d-10             [-1, 16, 5, 5]              32\n",
            "          Dropout-11             [-1, 16, 5, 5]               0\n",
            "           Conv2d-12              [-1, 8, 3, 3]           1,160\n",
            "      BatchNorm2d-13              [-1, 8, 3, 3]              16\n",
            "          Dropout-14              [-1, 8, 3, 3]               0\n",
            "           Conv2d-15             [-1, 10, 1, 1]             730\n",
            "================================================================\n",
            "Total params: 11,458\n",
            "Trainable params: 11,458\n",
            "Non-trainable params: 0\n",
            "----------------------------------------------------------------\n",
            "Input size (MB): 0.00\n",
            "Forward/backward pass size (MB): 0.37\n",
            "Params size (MB): 0.04\n",
            "Estimated Total Size (MB): 0.42\n",
            "----------------------------------------------------------------\n"
          ]
        },
        {
          "output_type": "stream",
          "name": "stderr",
          "text": [
            "<ipython-input-13-c71d6df545ca>:41: UserWarning: Implicit dimension choice for log_softmax has been deprecated. Change the call to include dim=X as an argument.\n",
            "  return F.log_softmax(x)\n"
          ]
        }
      ]
    },
    {
      "cell_type": "code",
      "source": [
        "class Net13(nn.Module):\n",
        "    def __init__(self):\n",
        "        super(Net13, self).__init__()\n",
        "        self.conv1 = nn.Conv2d(1, 16, 3, padding=1)   # 28\n",
        "        self.bn1 = nn.BatchNorm2d(16)\n",
        "\n",
        "        self.pool1 = nn.MaxPool2d(2, 2)               # 14\n",
        "        self.do1 = nn.Dropout(0.1)\n",
        "        \n",
        "        self.conv2 = nn.Conv2d(16, 32, 3, padding=1)  # 14\n",
        "        self.bn2 = nn.BatchNorm2d(32)\n",
        "        \n",
        "        self.pool2 = nn.MaxPool2d(2, 2)               # 7\n",
        "        self.do2 = nn.Dropout(0.1)\n",
        "        \n",
        "        self.conv3 = nn.Conv2d(32, 16, 3, padding=0)  # 5\n",
        "        self.bn3 = nn.BatchNorm2d(16)\n",
        "        self.do3 = nn.Dropout(0.1)\n",
        "\n",
        "        self.fc1 = nn.Linear(5 * 5 * 16, 10)          # fc\n",
        "\n",
        "    def forward(self, x):\n",
        "        x = self.do1(self.pool1(self.bn1(F.relu(self.conv1(x)))))\n",
        "\n",
        "        x = self.do2(self.pool2(self.bn2(F.relu(self.conv2(x)))))\n",
        "\n",
        "        x = self.do3(self.bn3(F.relu(self.conv3(x))))\n",
        "        \n",
        "        x = x.view(-1, 5 * 5 * 16)\n",
        "        x = self.fc1(x)\n",
        "\n",
        "        return F.log_softmax(x, dim=0)\n",
        "\n",
        "summary(Net13().to(device), input_size=(1, 28, 28))\n",
        "\n",
        "# replace conv4, conv5 with fc\n",
        "# 13.5k params\n",
        "# Acc: 99.04 in 5"
      ],
      "metadata": {
        "colab": {
          "base_uri": "https://localhost:8080/"
        },
        "id": "vyCx9C71gEBx",
        "outputId": "3aa598a6-05d8-4f98-ce88-312c961bb56f"
      },
      "execution_count": 21,
      "outputs": [
        {
          "output_type": "stream",
          "name": "stdout",
          "text": [
            "----------------------------------------------------------------\n",
            "        Layer (type)               Output Shape         Param #\n",
            "================================================================\n",
            "            Conv2d-1           [-1, 16, 28, 28]             160\n",
            "       BatchNorm2d-2           [-1, 16, 28, 28]              32\n",
            "         MaxPool2d-3           [-1, 16, 14, 14]               0\n",
            "           Dropout-4           [-1, 16, 14, 14]               0\n",
            "            Conv2d-5           [-1, 32, 14, 14]           4,640\n",
            "       BatchNorm2d-6           [-1, 32, 14, 14]              64\n",
            "         MaxPool2d-7             [-1, 32, 7, 7]               0\n",
            "           Dropout-8             [-1, 32, 7, 7]               0\n",
            "            Conv2d-9             [-1, 16, 5, 5]           4,624\n",
            "      BatchNorm2d-10             [-1, 16, 5, 5]              32\n",
            "          Dropout-11             [-1, 16, 5, 5]               0\n",
            "           Linear-12                   [-1, 10]           4,010\n",
            "================================================================\n",
            "Total params: 13,562\n",
            "Trainable params: 13,562\n",
            "Non-trainable params: 0\n",
            "----------------------------------------------------------------\n",
            "Input size (MB): 0.00\n",
            "Forward/backward pass size (MB): 0.37\n",
            "Params size (MB): 0.05\n",
            "Estimated Total Size (MB): 0.42\n",
            "----------------------------------------------------------------\n"
          ]
        }
      ]
    },
    {
      "cell_type": "code",
      "source": [
        "class Net14(nn.Module):\n",
        "    def __init__(self):\n",
        "        super(Net14, self).__init__()\n",
        "        self.conv1 = nn.Conv2d(1, 16, 3, padding=1)   # 28\n",
        "        self.bn1 = nn.BatchNorm2d(16)\n",
        "\n",
        "        self.pool1 = nn.MaxPool2d(2, 2)               # 14\n",
        "        self.do1 = nn.Dropout(0.1)\n",
        "        \n",
        "        self.conv2 = nn.Conv2d(16, 32, 3, padding=1)  # 14\n",
        "        self.bn2 = nn.BatchNorm2d(32)\n",
        "        \n",
        "        self.pool2 = nn.MaxPool2d(2, 2)               # 7\n",
        "        self.do2 = nn.Dropout(0.1)\n",
        "        \n",
        "        self.conv3 = nn.Conv2d(32, 16, 3, padding=0)  # 5\n",
        "        self.bn3 = nn.BatchNorm2d(16)\n",
        "        self.do3 = nn.Dropout(0.1)\n",
        "\n",
        "        self.conv4 = nn.Conv2d(16, 10, 3, padding=0)  # 3\n",
        "        self.gap = nn.AvgPool2d(3)\n",
        "\n",
        "    def forward(self, x):\n",
        "        x = self.do1(self.pool1(self.bn1(F.relu(self.conv1(x)))))\n",
        "\n",
        "        x = self.do2(self.pool2(self.bn2(F.relu(self.conv2(x)))))\n",
        "\n",
        "        x = self.do3(self.bn3(F.relu(self.conv3(x))))\n",
        "        \n",
        "        x = self.conv4(x)\n",
        "        x = self.gap(x)\n",
        "\n",
        "        x = x.view(-1, 10)\n",
        "        return F.log_softmax(x, dim=0)\n",
        "\n",
        "summary(Net14().to(device), input_size=(1, 28, 28))\n",
        "\n",
        "# Replace fc by conv4 (16, 10, 3) + gap(3)\n",
        "# 11k\n",
        "# Acc: 98.63 in 5, 98.9 in 20"
      ],
      "metadata": {
        "colab": {
          "base_uri": "https://localhost:8080/"
        },
        "id": "1a4P9Fdc8elH",
        "outputId": "f642c4c9-4bb9-4233-87ce-411d5ff02507"
      },
      "execution_count": 25,
      "outputs": [
        {
          "output_type": "stream",
          "name": "stdout",
          "text": [
            "----------------------------------------------------------------\n",
            "        Layer (type)               Output Shape         Param #\n",
            "================================================================\n",
            "            Conv2d-1           [-1, 16, 28, 28]             160\n",
            "       BatchNorm2d-2           [-1, 16, 28, 28]              32\n",
            "         MaxPool2d-3           [-1, 16, 14, 14]               0\n",
            "           Dropout-4           [-1, 16, 14, 14]               0\n",
            "            Conv2d-5           [-1, 32, 14, 14]           4,640\n",
            "       BatchNorm2d-6           [-1, 32, 14, 14]              64\n",
            "         MaxPool2d-7             [-1, 32, 7, 7]               0\n",
            "           Dropout-8             [-1, 32, 7, 7]               0\n",
            "            Conv2d-9             [-1, 16, 5, 5]           4,624\n",
            "      BatchNorm2d-10             [-1, 16, 5, 5]              32\n",
            "          Dropout-11             [-1, 16, 5, 5]               0\n",
            "           Conv2d-12             [-1, 10, 3, 3]           1,450\n",
            "        AvgPool2d-13             [-1, 10, 1, 1]               0\n",
            "================================================================\n",
            "Total params: 11,002\n",
            "Trainable params: 11,002\n",
            "Non-trainable params: 0\n",
            "----------------------------------------------------------------\n",
            "Input size (MB): 0.00\n",
            "Forward/backward pass size (MB): 0.37\n",
            "Params size (MB): 0.04\n",
            "Estimated Total Size (MB): 0.41\n",
            "----------------------------------------------------------------\n"
          ]
        }
      ]
    },
    {
      "cell_type": "code",
      "metadata": {
        "id": "MMWbLWO6FuHb"
      },
      "source": [
        "def run(model, num_epochs=5):\n",
        "  optimizer = optim.SGD(model.parameters(), lr=0.01, momentum=0.9)\n",
        "\n",
        "  for epoch in range(1, num_epochs):\n",
        "      train(model, device, train_loader, optimizer, epoch)\n",
        "      test(model, device, test_loader)\n",
        "\n",
        "def run2(model, num_epochs=5):\n",
        "  optimizer = optim.Adam(model.parameters(), lr=0.01)\n",
        "\n",
        "  for epoch in range(1, num_epochs):\n",
        "      train(model, device, train_loader, optimizer, epoch)\n",
        "      test(model, device, test_loader)"
      ],
      "execution_count": 18,
      "outputs": []
    },
    {
      "cell_type": "code",
      "source": [
        "run2(Net14().to(device))"
      ],
      "metadata": {
        "colab": {
          "base_uri": "https://localhost:8080/"
        },
        "id": "r5UjR2a2KXAe",
        "outputId": "b72b7cd1-6ac4-4660-a45b-071da0d1ca25"
      },
      "execution_count": 28,
      "outputs": [
        {
          "output_type": "stream",
          "name": "stderr",
          "text": [
            "loss=1.3940106630325317 batch_id=937: 100%|██████████| 938/938 [00:20<00:00, 45.99it/s]\n"
          ]
        },
        {
          "output_type": "stream",
          "name": "stdout",
          "text": [
            "\n",
            "Test set: Average loss: 2.0532, Accuracy: 9788/10000 (98%)\n",
            "\n"
          ]
        },
        {
          "output_type": "stream",
          "name": "stderr",
          "text": [
            "loss=1.4405502080917358 batch_id=937: 100%|██████████| 938/938 [00:20<00:00, 46.70it/s]\n"
          ]
        },
        {
          "output_type": "stream",
          "name": "stdout",
          "text": [
            "\n",
            "Test set: Average loss: 2.0263, Accuracy: 9818/10000 (98%)\n",
            "\n"
          ]
        },
        {
          "output_type": "stream",
          "name": "stderr",
          "text": [
            "loss=1.343474268913269 batch_id=937: 100%|██████████| 938/938 [00:20<00:00, 45.85it/s]\n"
          ]
        },
        {
          "output_type": "stream",
          "name": "stdout",
          "text": [
            "\n",
            "Test set: Average loss: 2.0101, Accuracy: 9840/10000 (98%)\n",
            "\n"
          ]
        },
        {
          "output_type": "stream",
          "name": "stderr",
          "text": [
            "loss=1.4018528461456299 batch_id=937: 100%|██████████| 938/938 [00:20<00:00, 46.67it/s]\n"
          ]
        },
        {
          "output_type": "stream",
          "name": "stdout",
          "text": [
            "\n",
            "Test set: Average loss: 2.0040, Accuracy: 9834/10000 (98%)\n",
            "\n"
          ]
        }
      ]
    },
    {
      "cell_type": "code",
      "source": [
        "run2(Net14().to(device), num_epochs=20)"
      ],
      "metadata": {
        "colab": {
          "base_uri": "https://localhost:8080/"
        },
        "id": "_FbVEh_NCBnV",
        "outputId": "2adbac8b-3444-416a-8d81-61cf45c879c5"
      },
      "execution_count": 29,
      "outputs": [
        {
          "output_type": "stream",
          "name": "stderr",
          "text": [
            "loss=1.375826120376587 batch_id=937: 100%|██████████| 938/938 [00:20<00:00, 46.53it/s]\n"
          ]
        },
        {
          "output_type": "stream",
          "name": "stdout",
          "text": [
            "\n",
            "Test set: Average loss: 2.0469, Accuracy: 9801/10000 (98%)\n",
            "\n"
          ]
        },
        {
          "output_type": "stream",
          "name": "stderr",
          "text": [
            "loss=1.4711716175079346 batch_id=937: 100%|██████████| 938/938 [00:19<00:00, 47.07it/s]\n"
          ]
        },
        {
          "output_type": "stream",
          "name": "stdout",
          "text": [
            "\n",
            "Test set: Average loss: 2.0136, Accuracy: 9855/10000 (99%)\n",
            "\n"
          ]
        },
        {
          "output_type": "stream",
          "name": "stderr",
          "text": [
            "loss=1.372450351715088 batch_id=937: 100%|██████████| 938/938 [00:20<00:00, 45.55it/s]\n"
          ]
        },
        {
          "output_type": "stream",
          "name": "stdout",
          "text": [
            "\n",
            "Test set: Average loss: 2.0053, Accuracy: 9850/10000 (98%)\n",
            "\n"
          ]
        },
        {
          "output_type": "stream",
          "name": "stderr",
          "text": [
            "loss=1.3055158853530884 batch_id=937: 100%|██████████| 938/938 [00:19<00:00, 46.96it/s]\n"
          ]
        },
        {
          "output_type": "stream",
          "name": "stdout",
          "text": [
            "\n",
            "Test set: Average loss: 2.0079, Accuracy: 9839/10000 (98%)\n",
            "\n"
          ]
        },
        {
          "output_type": "stream",
          "name": "stderr",
          "text": [
            "loss=1.474441647529602 batch_id=937: 100%|██████████| 938/938 [00:19<00:00, 47.46it/s]\n"
          ]
        },
        {
          "output_type": "stream",
          "name": "stdout",
          "text": [
            "\n",
            "Test set: Average loss: 1.9956, Accuracy: 9882/10000 (99%)\n",
            "\n"
          ]
        },
        {
          "output_type": "stream",
          "name": "stderr",
          "text": [
            "loss=1.3893377780914307 batch_id=937: 100%|██████████| 938/938 [00:19<00:00, 47.70it/s]\n"
          ]
        },
        {
          "output_type": "stream",
          "name": "stdout",
          "text": [
            "\n",
            "Test set: Average loss: 1.9909, Accuracy: 9880/10000 (99%)\n",
            "\n"
          ]
        },
        {
          "output_type": "stream",
          "name": "stderr",
          "text": [
            "loss=1.3806296586990356 batch_id=937: 100%|██████████| 938/938 [00:19<00:00, 47.23it/s]\n"
          ]
        },
        {
          "output_type": "stream",
          "name": "stdout",
          "text": [
            "\n",
            "Test set: Average loss: 1.9864, Accuracy: 9871/10000 (99%)\n",
            "\n"
          ]
        },
        {
          "output_type": "stream",
          "name": "stderr",
          "text": [
            "loss=1.3634071350097656 batch_id=937: 100%|██████████| 938/938 [00:19<00:00, 47.36it/s]\n"
          ]
        },
        {
          "output_type": "stream",
          "name": "stdout",
          "text": [
            "\n",
            "Test set: Average loss: 1.9901, Accuracy: 9873/10000 (99%)\n",
            "\n"
          ]
        },
        {
          "output_type": "stream",
          "name": "stderr",
          "text": [
            "loss=1.3299968242645264 batch_id=937: 100%|██████████| 938/938 [00:20<00:00, 45.27it/s]\n"
          ]
        },
        {
          "output_type": "stream",
          "name": "stdout",
          "text": [
            "\n",
            "Test set: Average loss: 1.9800, Accuracy: 9886/10000 (99%)\n",
            "\n"
          ]
        },
        {
          "output_type": "stream",
          "name": "stderr",
          "text": [
            "loss=1.3392115831375122 batch_id=937: 100%|██████████| 938/938 [00:20<00:00, 45.66it/s]\n"
          ]
        },
        {
          "output_type": "stream",
          "name": "stdout",
          "text": [
            "\n",
            "Test set: Average loss: 1.9835, Accuracy: 9873/10000 (99%)\n",
            "\n"
          ]
        },
        {
          "output_type": "stream",
          "name": "stderr",
          "text": [
            "loss=1.3399344682693481 batch_id=937: 100%|██████████| 938/938 [00:21<00:00, 43.70it/s]\n"
          ]
        },
        {
          "output_type": "stream",
          "name": "stdout",
          "text": [
            "\n",
            "Test set: Average loss: 1.9807, Accuracy: 9878/10000 (99%)\n",
            "\n"
          ]
        },
        {
          "output_type": "stream",
          "name": "stderr",
          "text": [
            "loss=1.3639253377914429 batch_id=937: 100%|██████████| 938/938 [00:20<00:00, 46.61it/s]\n"
          ]
        },
        {
          "output_type": "stream",
          "name": "stdout",
          "text": [
            "\n",
            "Test set: Average loss: 1.9794, Accuracy: 9887/10000 (99%)\n",
            "\n"
          ]
        },
        {
          "output_type": "stream",
          "name": "stderr",
          "text": [
            "loss=1.3213809728622437 batch_id=937: 100%|██████████| 938/938 [00:19<00:00, 46.94it/s]\n"
          ]
        },
        {
          "output_type": "stream",
          "name": "stdout",
          "text": [
            "\n",
            "Test set: Average loss: 1.9737, Accuracy: 9895/10000 (99%)\n",
            "\n"
          ]
        },
        {
          "output_type": "stream",
          "name": "stderr",
          "text": [
            "loss=1.3838640451431274 batch_id=937: 100%|██████████| 938/938 [00:21<00:00, 44.10it/s]\n"
          ]
        },
        {
          "output_type": "stream",
          "name": "stdout",
          "text": [
            "\n",
            "Test set: Average loss: 1.9714, Accuracy: 9900/10000 (99%)\n",
            "\n"
          ]
        },
        {
          "output_type": "stream",
          "name": "stderr",
          "text": [
            "loss=1.5141105651855469 batch_id=937: 100%|██████████| 938/938 [00:21<00:00, 43.74it/s]\n"
          ]
        },
        {
          "output_type": "stream",
          "name": "stdout",
          "text": [
            "\n",
            "Test set: Average loss: 1.9730, Accuracy: 9897/10000 (99%)\n",
            "\n"
          ]
        },
        {
          "output_type": "stream",
          "name": "stderr",
          "text": [
            "loss=1.4255459308624268 batch_id=937: 100%|██████████| 938/938 [00:21<00:00, 43.50it/s]\n"
          ]
        },
        {
          "output_type": "stream",
          "name": "stdout",
          "text": [
            "\n",
            "Test set: Average loss: 1.9793, Accuracy: 9887/10000 (99%)\n",
            "\n"
          ]
        },
        {
          "output_type": "stream",
          "name": "stderr",
          "text": [
            "loss=1.3859212398529053 batch_id=937: 100%|██████████| 938/938 [00:21<00:00, 43.92it/s]\n"
          ]
        },
        {
          "output_type": "stream",
          "name": "stdout",
          "text": [
            "\n",
            "Test set: Average loss: 1.9831, Accuracy: 9894/10000 (99%)\n",
            "\n"
          ]
        },
        {
          "output_type": "stream",
          "name": "stderr",
          "text": [
            "loss=1.453381061553955 batch_id=937: 100%|██████████| 938/938 [00:20<00:00, 45.07it/s]\n"
          ]
        },
        {
          "output_type": "stream",
          "name": "stdout",
          "text": [
            "\n",
            "Test set: Average loss: 1.9756, Accuracy: 9896/10000 (99%)\n",
            "\n"
          ]
        },
        {
          "output_type": "stream",
          "name": "stderr",
          "text": [
            "loss=1.2905714511871338 batch_id=937: 100%|██████████| 938/938 [00:20<00:00, 44.90it/s]\n"
          ]
        },
        {
          "output_type": "stream",
          "name": "stdout",
          "text": [
            "\n",
            "Test set: Average loss: 1.9689, Accuracy: 9890/10000 (99%)\n",
            "\n"
          ]
        }
      ]
    },
    {
      "cell_type": "code",
      "source": [],
      "metadata": {
        "id": "eGOuK5ZMIBSm"
      },
      "execution_count": 20,
      "outputs": []
    },
    {
      "cell_type": "code",
      "metadata": {
        "id": "So5uk4EkHW6R"
      },
      "source": [],
      "execution_count": 20,
      "outputs": []
    },
    {
      "cell_type": "code",
      "source": [],
      "metadata": {
        "id": "p5LrPpcYKJA8"
      },
      "execution_count": 20,
      "outputs": []
    }
  ]
}